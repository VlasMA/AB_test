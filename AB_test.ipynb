{
  "nbformat": 4,
  "nbformat_minor": 0,
  "metadata": {
    "colab": {
      "provenance": []
    },
    "kernelspec": {
      "name": "python3",
      "display_name": "Python 3"
    },
    "language_info": {
      "name": "python"
    }
  },
  "cells": [
    {
      "cell_type": "markdown",
      "source": [
        "# А/В ТЕСТ"
      ],
      "metadata": {
        "id": "7DYEBX_65817"
      }
    },
    {
      "cell_type": "code",
      "source": [
        "from scipy.stats import ttest_1samp\n",
        "import numpy as np\n",
        "\n",
        "import warnings          ## этот блок нужен, чтоб ошибки убирал при выводе\n",
        "warnings.filterwarnings('ignore')\n",
        "warnings.warn('DelftStack')\n",
        "warnings.warn('Do not show this message')\n",
        "\n",
        "import matplotlib.pyplot as plt\n",
        "import seaborn as sns\n",
        "import pandas as pd"
      ],
      "metadata": {
        "id": "M8cXKSlm6FQM"
      },
      "execution_count": 1,
      "outputs": []
    },
    {
      "cell_type": "markdown",
      "source": [
        "# Тестирование гипотез"
      ],
      "metadata": {
        "id": "BuNNu4p576Q8"
      }
    },
    {
      "cell_type": "markdown",
      "source": [
        "## Гипотеза для коэффициента корелляции\n",
        "Корреляция - взаимосвязь между переменными\n",
        "Чаще встречается корреляция Пирсона,  именно она тут и отображена"
      ],
      "metadata": {
        "id": "k1RCTyhP7_cZ"
      }
    },
    {
      "cell_type": "code",
      "source": [
        "from scipy.stats import pearsonr\n",
        "\n",
        "data1 = [0.873, 2.817, 0.121, -0.945, -0.055, -1.436, 0.360, -1.478, -1.637, -1.869]\n",
        "\n",
        "data2 = [0.353, 3.517, 0.125, -7.545, -0.555, -1.536, 3.350, -1.578, -3.537, -1.579]\n",
        "\n",
        "stat, p = pearsonr(data1, data2)\n",
        "\n",
        "print('stat=%.3f, p=%.3f' % (stat, p))\n",
        "if p < 0.05:\n",
        "    print('Groups are different (reject H0)')\n",
        "else:\n",
        "    print('Groups are similar (fail to reject H0)')\n",
        "\n",
        "# в данном случае p-value 0,028, меньше чем альфа, отвергаем нулевую гипотезу. коэф корреляции 0,68, он статичстически значим. Значит положительная стат значимая связь между выборками"
      ],
      "metadata": {
        "colab": {
          "base_uri": "https://localhost:8080/"
        },
        "id": "GUPWtG516Fhc",
        "outputId": "e6361302-c3ce-45de-e3bb-7096c641614e"
      },
      "execution_count": null,
      "outputs": [
        {
          "output_type": "stream",
          "name": "stdout",
          "text": [
            "stat=0.688, p=0.028\n",
            "Groups are different (reject H0)\n"
          ]
        }
      ]
    },
    {
      "cell_type": "markdown",
      "source": [
        "# Поработаем с датасетом c покупками"
      ],
      "metadata": {
        "id": "YvgJ2Fds8GLW"
      }
    },
    {
      "cell_type": "markdown",
      "source": [
        "Метрики ARPU или Average Revenue Per User - средняя выручка на одного пользователя\n",
        "\n",
        "ARPPU или Average Revenue Per Paying User - средняя выручка на одного платящего пользователя"
      ],
      "metadata": {
        "id": "J6VLvWzO8M09"
      }
    },
    {
      "cell_type": "markdown",
      "source": [
        "## Подготовка данных"
      ],
      "metadata": {
        "id": "b2GTs21o8REf"
      }
    },
    {
      "cell_type": "code",
      "source": [
        "#Подгружаем данные с гугл диска\n",
        "from google.colab import drive\n",
        "drive.mount('/content/drive')\n",
        "\n",
        "\n",
        "data = pd.read_csv('/content/drive/MyDrive/Geek Brains/ab_stats_shpargalka_5.csv')\n",
        "\n",
        "data.head(10)"
      ],
      "metadata": {
        "colab": {
          "base_uri": "https://localhost:8080/",
          "height": 380
        },
        "id": "QiVXjQul6Fj5",
        "outputId": "a0e55e84-bff6-4f6c-c628-1590db8191f6"
      },
      "execution_count": 2,
      "outputs": [
        {
          "output_type": "stream",
          "name": "stdout",
          "text": [
            "Mounted at /content/drive\n"
          ]
        },
        {
          "output_type": "execute_result",
          "data": {
            "text/plain": [
              "   revenue  num_purchases  purchase ab_group  av_site visit\n",
              "0      0.0              0         0        A       9.040174\n",
              "1      0.0              0         0        A       4.811628\n",
              "2      0.0              0         0        A       7.342623\n",
              "3      0.0              0         0        A       7.744581\n",
              "4      0.0              0         0        A      10.511814\n",
              "5      0.0              0         0        A       9.578727\n",
              "6      0.0              0         0        A       6.162601\n",
              "7      0.0              0         0        A      11.909452\n",
              "8      0.0              0         0        A       6.540910\n",
              "9      0.0              0         0        A       7.990794"
            ],
            "text/html": [
              "\n",
              "  <div id=\"df-b46e9a01-5f94-4667-94eb-ed94f6566790\">\n",
              "    <div class=\"colab-df-container\">\n",
              "      <div>\n",
              "<style scoped>\n",
              "    .dataframe tbody tr th:only-of-type {\n",
              "        vertical-align: middle;\n",
              "    }\n",
              "\n",
              "    .dataframe tbody tr th {\n",
              "        vertical-align: top;\n",
              "    }\n",
              "\n",
              "    .dataframe thead th {\n",
              "        text-align: right;\n",
              "    }\n",
              "</style>\n",
              "<table border=\"1\" class=\"dataframe\">\n",
              "  <thead>\n",
              "    <tr style=\"text-align: right;\">\n",
              "      <th></th>\n",
              "      <th>revenue</th>\n",
              "      <th>num_purchases</th>\n",
              "      <th>purchase</th>\n",
              "      <th>ab_group</th>\n",
              "      <th>av_site visit</th>\n",
              "    </tr>\n",
              "  </thead>\n",
              "  <tbody>\n",
              "    <tr>\n",
              "      <th>0</th>\n",
              "      <td>0.0</td>\n",
              "      <td>0</td>\n",
              "      <td>0</td>\n",
              "      <td>A</td>\n",
              "      <td>9.040174</td>\n",
              "    </tr>\n",
              "    <tr>\n",
              "      <th>1</th>\n",
              "      <td>0.0</td>\n",
              "      <td>0</td>\n",
              "      <td>0</td>\n",
              "      <td>A</td>\n",
              "      <td>4.811628</td>\n",
              "    </tr>\n",
              "    <tr>\n",
              "      <th>2</th>\n",
              "      <td>0.0</td>\n",
              "      <td>0</td>\n",
              "      <td>0</td>\n",
              "      <td>A</td>\n",
              "      <td>7.342623</td>\n",
              "    </tr>\n",
              "    <tr>\n",
              "      <th>3</th>\n",
              "      <td>0.0</td>\n",
              "      <td>0</td>\n",
              "      <td>0</td>\n",
              "      <td>A</td>\n",
              "      <td>7.744581</td>\n",
              "    </tr>\n",
              "    <tr>\n",
              "      <th>4</th>\n",
              "      <td>0.0</td>\n",
              "      <td>0</td>\n",
              "      <td>0</td>\n",
              "      <td>A</td>\n",
              "      <td>10.511814</td>\n",
              "    </tr>\n",
              "    <tr>\n",
              "      <th>5</th>\n",
              "      <td>0.0</td>\n",
              "      <td>0</td>\n",
              "      <td>0</td>\n",
              "      <td>A</td>\n",
              "      <td>9.578727</td>\n",
              "    </tr>\n",
              "    <tr>\n",
              "      <th>6</th>\n",
              "      <td>0.0</td>\n",
              "      <td>0</td>\n",
              "      <td>0</td>\n",
              "      <td>A</td>\n",
              "      <td>6.162601</td>\n",
              "    </tr>\n",
              "    <tr>\n",
              "      <th>7</th>\n",
              "      <td>0.0</td>\n",
              "      <td>0</td>\n",
              "      <td>0</td>\n",
              "      <td>A</td>\n",
              "      <td>11.909452</td>\n",
              "    </tr>\n",
              "    <tr>\n",
              "      <th>8</th>\n",
              "      <td>0.0</td>\n",
              "      <td>0</td>\n",
              "      <td>0</td>\n",
              "      <td>A</td>\n",
              "      <td>6.540910</td>\n",
              "    </tr>\n",
              "    <tr>\n",
              "      <th>9</th>\n",
              "      <td>0.0</td>\n",
              "      <td>0</td>\n",
              "      <td>0</td>\n",
              "      <td>A</td>\n",
              "      <td>7.990794</td>\n",
              "    </tr>\n",
              "  </tbody>\n",
              "</table>\n",
              "</div>\n",
              "      <button class=\"colab-df-convert\" onclick=\"convertToInteractive('df-b46e9a01-5f94-4667-94eb-ed94f6566790')\"\n",
              "              title=\"Convert this dataframe to an interactive table.\"\n",
              "              style=\"display:none;\">\n",
              "        \n",
              "  <svg xmlns=\"http://www.w3.org/2000/svg\" height=\"24px\"viewBox=\"0 0 24 24\"\n",
              "       width=\"24px\">\n",
              "    <path d=\"M0 0h24v24H0V0z\" fill=\"none\"/>\n",
              "    <path d=\"M18.56 5.44l.94 2.06.94-2.06 2.06-.94-2.06-.94-.94-2.06-.94 2.06-2.06.94zm-11 1L8.5 8.5l.94-2.06 2.06-.94-2.06-.94L8.5 2.5l-.94 2.06-2.06.94zm10 10l.94 2.06.94-2.06 2.06-.94-2.06-.94-.94-2.06-.94 2.06-2.06.94z\"/><path d=\"M17.41 7.96l-1.37-1.37c-.4-.4-.92-.59-1.43-.59-.52 0-1.04.2-1.43.59L10.3 9.45l-7.72 7.72c-.78.78-.78 2.05 0 2.83L4 21.41c.39.39.9.59 1.41.59.51 0 1.02-.2 1.41-.59l7.78-7.78 2.81-2.81c.8-.78.8-2.07 0-2.86zM5.41 20L4 18.59l7.72-7.72 1.47 1.35L5.41 20z\"/>\n",
              "  </svg>\n",
              "      </button>\n",
              "      \n",
              "  <style>\n",
              "    .colab-df-container {\n",
              "      display:flex;\n",
              "      flex-wrap:wrap;\n",
              "      gap: 12px;\n",
              "    }\n",
              "\n",
              "    .colab-df-convert {\n",
              "      background-color: #E8F0FE;\n",
              "      border: none;\n",
              "      border-radius: 50%;\n",
              "      cursor: pointer;\n",
              "      display: none;\n",
              "      fill: #1967D2;\n",
              "      height: 32px;\n",
              "      padding: 0 0 0 0;\n",
              "      width: 32px;\n",
              "    }\n",
              "\n",
              "    .colab-df-convert:hover {\n",
              "      background-color: #E2EBFA;\n",
              "      box-shadow: 0px 1px 2px rgba(60, 64, 67, 0.3), 0px 1px 3px 1px rgba(60, 64, 67, 0.15);\n",
              "      fill: #174EA6;\n",
              "    }\n",
              "\n",
              "    [theme=dark] .colab-df-convert {\n",
              "      background-color: #3B4455;\n",
              "      fill: #D2E3FC;\n",
              "    }\n",
              "\n",
              "    [theme=dark] .colab-df-convert:hover {\n",
              "      background-color: #434B5C;\n",
              "      box-shadow: 0px 1px 3px 1px rgba(0, 0, 0, 0.15);\n",
              "      filter: drop-shadow(0px 1px 2px rgba(0, 0, 0, 0.3));\n",
              "      fill: #FFFFFF;\n",
              "    }\n",
              "  </style>\n",
              "\n",
              "      <script>\n",
              "        const buttonEl =\n",
              "          document.querySelector('#df-b46e9a01-5f94-4667-94eb-ed94f6566790 button.colab-df-convert');\n",
              "        buttonEl.style.display =\n",
              "          google.colab.kernel.accessAllowed ? 'block' : 'none';\n",
              "\n",
              "        async function convertToInteractive(key) {\n",
              "          const element = document.querySelector('#df-b46e9a01-5f94-4667-94eb-ed94f6566790');\n",
              "          const dataTable =\n",
              "            await google.colab.kernel.invokeFunction('convertToInteractive',\n",
              "                                                     [key], {});\n",
              "          if (!dataTable) return;\n",
              "\n",
              "          const docLinkHtml = 'Like what you see? Visit the ' +\n",
              "            '<a target=\"_blank\" href=https://colab.research.google.com/notebooks/data_table.ipynb>data table notebook</a>'\n",
              "            + ' to learn more about interactive tables.';\n",
              "          element.innerHTML = '';\n",
              "          dataTable['output_type'] = 'display_data';\n",
              "          await google.colab.output.renderOutput(dataTable, element);\n",
              "          const docLink = document.createElement('div');\n",
              "          docLink.innerHTML = docLinkHtml;\n",
              "          element.appendChild(docLink);\n",
              "        }\n",
              "      </script>\n",
              "    </div>\n",
              "  </div>\n",
              "  "
            ]
          },
          "metadata": {},
          "execution_count": 2
        }
      ]
    },
    {
      "cell_type": "code",
      "source": [
        "# краткие данные, проверка типов данных\n",
        "data.info()"
      ],
      "metadata": {
        "colab": {
          "base_uri": "https://localhost:8080/"
        },
        "id": "-fToaKme6Fmp",
        "outputId": "1db4a5e4-1ef3-4b58-eac1-79215ea5d1f7"
      },
      "execution_count": null,
      "outputs": [
        {
          "output_type": "stream",
          "name": "stdout",
          "text": [
            "<class 'pandas.core.frame.DataFrame'>\n",
            "RangeIndex: 23652 entries, 0 to 23651\n",
            "Data columns (total 5 columns):\n",
            " #   Column         Non-Null Count  Dtype  \n",
            "---  ------         --------------  -----  \n",
            " 0   revenue        23652 non-null  float64\n",
            " 1   num_purchases  23652 non-null  int64  \n",
            " 2   purchase       23652 non-null  int64  \n",
            " 3   ab_group       23652 non-null  object \n",
            " 4   av_site visit  23652 non-null  float64\n",
            "dtypes: float64(2), int64(2), object(1)\n",
            "memory usage: 924.0+ KB\n"
          ]
        }
      ]
    },
    {
      "cell_type": "code",
      "source": [
        "# размерность\n",
        "data.shape"
      ],
      "metadata": {
        "colab": {
          "base_uri": "https://localhost:8080/"
        },
        "id": "Xfw1pfYK6FpF",
        "outputId": "76406908-53e8-496d-c7c5-0643b4cf4f41"
      },
      "execution_count": null,
      "outputs": [
        {
          "output_type": "execute_result",
          "data": {
            "text/plain": [
              "(23652, 5)"
            ]
          },
          "metadata": {},
          "execution_count": 8
        }
      ]
    },
    {
      "cell_type": "code",
      "source": [
        "# числовые статистики\n",
        "data.describe()"
      ],
      "metadata": {
        "colab": {
          "base_uri": "https://localhost:8080/",
          "height": 300
        },
        "id": "M9wFaYgrFiU8",
        "outputId": "ecf9ec82-9553-4400-8006-399ff649b5d5"
      },
      "execution_count": null,
      "outputs": [
        {
          "output_type": "execute_result",
          "data": {
            "text/plain": [
              "            revenue  num_purchases      purchase  av_site visit\n",
              "count  23652.000000   23652.000000  23652.000000   23652.000000\n",
              "mean       0.324689       0.043590      0.020717       7.013112\n",
              "std        9.557730       1.079403      0.142438       3.154584\n",
              "min        0.000000       0.000000      0.000000     -12.073486\n",
              "25%        0.000000       0.000000      0.000000       5.173787\n",
              "50%        0.000000       0.000000      0.000000       7.007936\n",
              "75%        0.000000       0.000000      0.000000       8.864119\n",
              "max     1303.609284     152.000000      1.000000      22.446822"
            ],
            "text/html": [
              "\n",
              "  <div id=\"df-e7f04009-1edc-4ccd-a858-0970ab4bac3d\">\n",
              "    <div class=\"colab-df-container\">\n",
              "      <div>\n",
              "<style scoped>\n",
              "    .dataframe tbody tr th:only-of-type {\n",
              "        vertical-align: middle;\n",
              "    }\n",
              "\n",
              "    .dataframe tbody tr th {\n",
              "        vertical-align: top;\n",
              "    }\n",
              "\n",
              "    .dataframe thead th {\n",
              "        text-align: right;\n",
              "    }\n",
              "</style>\n",
              "<table border=\"1\" class=\"dataframe\">\n",
              "  <thead>\n",
              "    <tr style=\"text-align: right;\">\n",
              "      <th></th>\n",
              "      <th>revenue</th>\n",
              "      <th>num_purchases</th>\n",
              "      <th>purchase</th>\n",
              "      <th>av_site visit</th>\n",
              "    </tr>\n",
              "  </thead>\n",
              "  <tbody>\n",
              "    <tr>\n",
              "      <th>count</th>\n",
              "      <td>23652.000000</td>\n",
              "      <td>23652.000000</td>\n",
              "      <td>23652.000000</td>\n",
              "      <td>23652.000000</td>\n",
              "    </tr>\n",
              "    <tr>\n",
              "      <th>mean</th>\n",
              "      <td>0.324689</td>\n",
              "      <td>0.043590</td>\n",
              "      <td>0.020717</td>\n",
              "      <td>7.013112</td>\n",
              "    </tr>\n",
              "    <tr>\n",
              "      <th>std</th>\n",
              "      <td>9.557730</td>\n",
              "      <td>1.079403</td>\n",
              "      <td>0.142438</td>\n",
              "      <td>3.154584</td>\n",
              "    </tr>\n",
              "    <tr>\n",
              "      <th>min</th>\n",
              "      <td>0.000000</td>\n",
              "      <td>0.000000</td>\n",
              "      <td>0.000000</td>\n",
              "      <td>-12.073486</td>\n",
              "    </tr>\n",
              "    <tr>\n",
              "      <th>25%</th>\n",
              "      <td>0.000000</td>\n",
              "      <td>0.000000</td>\n",
              "      <td>0.000000</td>\n",
              "      <td>5.173787</td>\n",
              "    </tr>\n",
              "    <tr>\n",
              "      <th>50%</th>\n",
              "      <td>0.000000</td>\n",
              "      <td>0.000000</td>\n",
              "      <td>0.000000</td>\n",
              "      <td>7.007936</td>\n",
              "    </tr>\n",
              "    <tr>\n",
              "      <th>75%</th>\n",
              "      <td>0.000000</td>\n",
              "      <td>0.000000</td>\n",
              "      <td>0.000000</td>\n",
              "      <td>8.864119</td>\n",
              "    </tr>\n",
              "    <tr>\n",
              "      <th>max</th>\n",
              "      <td>1303.609284</td>\n",
              "      <td>152.000000</td>\n",
              "      <td>1.000000</td>\n",
              "      <td>22.446822</td>\n",
              "    </tr>\n",
              "  </tbody>\n",
              "</table>\n",
              "</div>\n",
              "      <button class=\"colab-df-convert\" onclick=\"convertToInteractive('df-e7f04009-1edc-4ccd-a858-0970ab4bac3d')\"\n",
              "              title=\"Convert this dataframe to an interactive table.\"\n",
              "              style=\"display:none;\">\n",
              "        \n",
              "  <svg xmlns=\"http://www.w3.org/2000/svg\" height=\"24px\"viewBox=\"0 0 24 24\"\n",
              "       width=\"24px\">\n",
              "    <path d=\"M0 0h24v24H0V0z\" fill=\"none\"/>\n",
              "    <path d=\"M18.56 5.44l.94 2.06.94-2.06 2.06-.94-2.06-.94-.94-2.06-.94 2.06-2.06.94zm-11 1L8.5 8.5l.94-2.06 2.06-.94-2.06-.94L8.5 2.5l-.94 2.06-2.06.94zm10 10l.94 2.06.94-2.06 2.06-.94-2.06-.94-.94-2.06-.94 2.06-2.06.94z\"/><path d=\"M17.41 7.96l-1.37-1.37c-.4-.4-.92-.59-1.43-.59-.52 0-1.04.2-1.43.59L10.3 9.45l-7.72 7.72c-.78.78-.78 2.05 0 2.83L4 21.41c.39.39.9.59 1.41.59.51 0 1.02-.2 1.41-.59l7.78-7.78 2.81-2.81c.8-.78.8-2.07 0-2.86zM5.41 20L4 18.59l7.72-7.72 1.47 1.35L5.41 20z\"/>\n",
              "  </svg>\n",
              "      </button>\n",
              "      \n",
              "  <style>\n",
              "    .colab-df-container {\n",
              "      display:flex;\n",
              "      flex-wrap:wrap;\n",
              "      gap: 12px;\n",
              "    }\n",
              "\n",
              "    .colab-df-convert {\n",
              "      background-color: #E8F0FE;\n",
              "      border: none;\n",
              "      border-radius: 50%;\n",
              "      cursor: pointer;\n",
              "      display: none;\n",
              "      fill: #1967D2;\n",
              "      height: 32px;\n",
              "      padding: 0 0 0 0;\n",
              "      width: 32px;\n",
              "    }\n",
              "\n",
              "    .colab-df-convert:hover {\n",
              "      background-color: #E2EBFA;\n",
              "      box-shadow: 0px 1px 2px rgba(60, 64, 67, 0.3), 0px 1px 3px 1px rgba(60, 64, 67, 0.15);\n",
              "      fill: #174EA6;\n",
              "    }\n",
              "\n",
              "    [theme=dark] .colab-df-convert {\n",
              "      background-color: #3B4455;\n",
              "      fill: #D2E3FC;\n",
              "    }\n",
              "\n",
              "    [theme=dark] .colab-df-convert:hover {\n",
              "      background-color: #434B5C;\n",
              "      box-shadow: 0px 1px 3px 1px rgba(0, 0, 0, 0.15);\n",
              "      filter: drop-shadow(0px 1px 2px rgba(0, 0, 0, 0.3));\n",
              "      fill: #FFFFFF;\n",
              "    }\n",
              "  </style>\n",
              "\n",
              "      <script>\n",
              "        const buttonEl =\n",
              "          document.querySelector('#df-e7f04009-1edc-4ccd-a858-0970ab4bac3d button.colab-df-convert');\n",
              "        buttonEl.style.display =\n",
              "          google.colab.kernel.accessAllowed ? 'block' : 'none';\n",
              "\n",
              "        async function convertToInteractive(key) {\n",
              "          const element = document.querySelector('#df-e7f04009-1edc-4ccd-a858-0970ab4bac3d');\n",
              "          const dataTable =\n",
              "            await google.colab.kernel.invokeFunction('convertToInteractive',\n",
              "                                                     [key], {});\n",
              "          if (!dataTable) return;\n",
              "\n",
              "          const docLinkHtml = 'Like what you see? Visit the ' +\n",
              "            '<a target=\"_blank\" href=https://colab.research.google.com/notebooks/data_table.ipynb>data table notebook</a>'\n",
              "            + ' to learn more about interactive tables.';\n",
              "          element.innerHTML = '';\n",
              "          dataTable['output_type'] = 'display_data';\n",
              "          await google.colab.output.renderOutput(dataTable, element);\n",
              "          const docLink = document.createElement('div');\n",
              "          docLink.innerHTML = docLinkHtml;\n",
              "          element.appendChild(docLink);\n",
              "        }\n",
              "      </script>\n",
              "    </div>\n",
              "  </div>\n",
              "  "
            ]
          },
          "metadata": {},
          "execution_count": 9
        }
      ]
    },
    {
      "cell_type": "code",
      "source": [
        "# Сколько пустых значений в столбцах\n",
        "data.isna().sum()"
      ],
      "metadata": {
        "colab": {
          "base_uri": "https://localhost:8080/"
        },
        "id": "-dTEC6VxFiXt",
        "outputId": "4d918640-b806-475a-a4f8-c66775c6664e"
      },
      "execution_count": null,
      "outputs": [
        {
          "output_type": "execute_result",
          "data": {
            "text/plain": [
              "revenue          0\n",
              "num_purchases    0\n",
              "purchase         0\n",
              "ab_group         0\n",
              "av_site visit    0\n",
              "dtype: int64"
            ]
          },
          "metadata": {},
          "execution_count": 10
        }
      ]
    },
    {
      "cell_type": "code",
      "source": [
        "# размер групп\n",
        "data.ab_group.value_counts()"
      ],
      "metadata": {
        "colab": {
          "base_uri": "https://localhost:8080/"
        },
        "id": "1lPg89M0FiaM",
        "outputId": "a1ee7631-96f8-4d24-83e2-8d020ceffa2a"
      },
      "execution_count": null,
      "outputs": [
        {
          "output_type": "execute_result",
          "data": {
            "text/plain": [
              "A    11835\n",
              "B    11817\n",
              "Name: ab_group, dtype: int64"
            ]
          },
          "metadata": {},
          "execution_count": 11
        }
      ]
    },
    {
      "cell_type": "code",
      "source": [
        "# Строчкки в которых прибыль больше нуля\n",
        "data[data['revenue']>0]"
      ],
      "metadata": {
        "colab": {
          "base_uri": "https://localhost:8080/",
          "height": 424
        },
        "id": "7-QCN4w7Ficu",
        "outputId": "fa96bdf3-9656-4eb0-91c4-f7ae3c615383"
      },
      "execution_count": null,
      "outputs": [
        {
          "output_type": "execute_result",
          "data": {
            "text/plain": [
              "         revenue  num_purchases  purchase ab_group  av_site visit\n",
              "45      1.885595              1         1        A       7.654627\n",
              "54      1.002159              1         1        A       6.392489\n",
              "82      2.990000              1         1        A       8.596604\n",
              "104    49.990000              1         1        A       8.885633\n",
              "110    22.093757              4         1        A       8.708759\n",
              "...          ...            ...       ...      ...            ...\n",
              "23426   2.489611              1         1        B       9.015714\n",
              "23493  74.950000              5         1        B       5.881950\n",
              "23495   3.667866              1         1        B       7.450014\n",
              "23584  19.990000              1         1        B       9.813696\n",
              "23616   2.453401              1         1        B      11.909353\n",
              "\n",
              "[490 rows x 5 columns]"
            ],
            "text/html": [
              "\n",
              "  <div id=\"df-a69798e4-b94a-453f-ba59-cf80fa0485ae\">\n",
              "    <div class=\"colab-df-container\">\n",
              "      <div>\n",
              "<style scoped>\n",
              "    .dataframe tbody tr th:only-of-type {\n",
              "        vertical-align: middle;\n",
              "    }\n",
              "\n",
              "    .dataframe tbody tr th {\n",
              "        vertical-align: top;\n",
              "    }\n",
              "\n",
              "    .dataframe thead th {\n",
              "        text-align: right;\n",
              "    }\n",
              "</style>\n",
              "<table border=\"1\" class=\"dataframe\">\n",
              "  <thead>\n",
              "    <tr style=\"text-align: right;\">\n",
              "      <th></th>\n",
              "      <th>revenue</th>\n",
              "      <th>num_purchases</th>\n",
              "      <th>purchase</th>\n",
              "      <th>ab_group</th>\n",
              "      <th>av_site visit</th>\n",
              "    </tr>\n",
              "  </thead>\n",
              "  <tbody>\n",
              "    <tr>\n",
              "      <th>45</th>\n",
              "      <td>1.885595</td>\n",
              "      <td>1</td>\n",
              "      <td>1</td>\n",
              "      <td>A</td>\n",
              "      <td>7.654627</td>\n",
              "    </tr>\n",
              "    <tr>\n",
              "      <th>54</th>\n",
              "      <td>1.002159</td>\n",
              "      <td>1</td>\n",
              "      <td>1</td>\n",
              "      <td>A</td>\n",
              "      <td>6.392489</td>\n",
              "    </tr>\n",
              "    <tr>\n",
              "      <th>82</th>\n",
              "      <td>2.990000</td>\n",
              "      <td>1</td>\n",
              "      <td>1</td>\n",
              "      <td>A</td>\n",
              "      <td>8.596604</td>\n",
              "    </tr>\n",
              "    <tr>\n",
              "      <th>104</th>\n",
              "      <td>49.990000</td>\n",
              "      <td>1</td>\n",
              "      <td>1</td>\n",
              "      <td>A</td>\n",
              "      <td>8.885633</td>\n",
              "    </tr>\n",
              "    <tr>\n",
              "      <th>110</th>\n",
              "      <td>22.093757</td>\n",
              "      <td>4</td>\n",
              "      <td>1</td>\n",
              "      <td>A</td>\n",
              "      <td>8.708759</td>\n",
              "    </tr>\n",
              "    <tr>\n",
              "      <th>...</th>\n",
              "      <td>...</td>\n",
              "      <td>...</td>\n",
              "      <td>...</td>\n",
              "      <td>...</td>\n",
              "      <td>...</td>\n",
              "    </tr>\n",
              "    <tr>\n",
              "      <th>23426</th>\n",
              "      <td>2.489611</td>\n",
              "      <td>1</td>\n",
              "      <td>1</td>\n",
              "      <td>B</td>\n",
              "      <td>9.015714</td>\n",
              "    </tr>\n",
              "    <tr>\n",
              "      <th>23493</th>\n",
              "      <td>74.950000</td>\n",
              "      <td>5</td>\n",
              "      <td>1</td>\n",
              "      <td>B</td>\n",
              "      <td>5.881950</td>\n",
              "    </tr>\n",
              "    <tr>\n",
              "      <th>23495</th>\n",
              "      <td>3.667866</td>\n",
              "      <td>1</td>\n",
              "      <td>1</td>\n",
              "      <td>B</td>\n",
              "      <td>7.450014</td>\n",
              "    </tr>\n",
              "    <tr>\n",
              "      <th>23584</th>\n",
              "      <td>19.990000</td>\n",
              "      <td>1</td>\n",
              "      <td>1</td>\n",
              "      <td>B</td>\n",
              "      <td>9.813696</td>\n",
              "    </tr>\n",
              "    <tr>\n",
              "      <th>23616</th>\n",
              "      <td>2.453401</td>\n",
              "      <td>1</td>\n",
              "      <td>1</td>\n",
              "      <td>B</td>\n",
              "      <td>11.909353</td>\n",
              "    </tr>\n",
              "  </tbody>\n",
              "</table>\n",
              "<p>490 rows × 5 columns</p>\n",
              "</div>\n",
              "      <button class=\"colab-df-convert\" onclick=\"convertToInteractive('df-a69798e4-b94a-453f-ba59-cf80fa0485ae')\"\n",
              "              title=\"Convert this dataframe to an interactive table.\"\n",
              "              style=\"display:none;\">\n",
              "        \n",
              "  <svg xmlns=\"http://www.w3.org/2000/svg\" height=\"24px\"viewBox=\"0 0 24 24\"\n",
              "       width=\"24px\">\n",
              "    <path d=\"M0 0h24v24H0V0z\" fill=\"none\"/>\n",
              "    <path d=\"M18.56 5.44l.94 2.06.94-2.06 2.06-.94-2.06-.94-.94-2.06-.94 2.06-2.06.94zm-11 1L8.5 8.5l.94-2.06 2.06-.94-2.06-.94L8.5 2.5l-.94 2.06-2.06.94zm10 10l.94 2.06.94-2.06 2.06-.94-2.06-.94-.94-2.06-.94 2.06-2.06.94z\"/><path d=\"M17.41 7.96l-1.37-1.37c-.4-.4-.92-.59-1.43-.59-.52 0-1.04.2-1.43.59L10.3 9.45l-7.72 7.72c-.78.78-.78 2.05 0 2.83L4 21.41c.39.39.9.59 1.41.59.51 0 1.02-.2 1.41-.59l7.78-7.78 2.81-2.81c.8-.78.8-2.07 0-2.86zM5.41 20L4 18.59l7.72-7.72 1.47 1.35L5.41 20z\"/>\n",
              "  </svg>\n",
              "      </button>\n",
              "      \n",
              "  <style>\n",
              "    .colab-df-container {\n",
              "      display:flex;\n",
              "      flex-wrap:wrap;\n",
              "      gap: 12px;\n",
              "    }\n",
              "\n",
              "    .colab-df-convert {\n",
              "      background-color: #E8F0FE;\n",
              "      border: none;\n",
              "      border-radius: 50%;\n",
              "      cursor: pointer;\n",
              "      display: none;\n",
              "      fill: #1967D2;\n",
              "      height: 32px;\n",
              "      padding: 0 0 0 0;\n",
              "      width: 32px;\n",
              "    }\n",
              "\n",
              "    .colab-df-convert:hover {\n",
              "      background-color: #E2EBFA;\n",
              "      box-shadow: 0px 1px 2px rgba(60, 64, 67, 0.3), 0px 1px 3px 1px rgba(60, 64, 67, 0.15);\n",
              "      fill: #174EA6;\n",
              "    }\n",
              "\n",
              "    [theme=dark] .colab-df-convert {\n",
              "      background-color: #3B4455;\n",
              "      fill: #D2E3FC;\n",
              "    }\n",
              "\n",
              "    [theme=dark] .colab-df-convert:hover {\n",
              "      background-color: #434B5C;\n",
              "      box-shadow: 0px 1px 3px 1px rgba(0, 0, 0, 0.15);\n",
              "      filter: drop-shadow(0px 1px 2px rgba(0, 0, 0, 0.3));\n",
              "      fill: #FFFFFF;\n",
              "    }\n",
              "  </style>\n",
              "\n",
              "      <script>\n",
              "        const buttonEl =\n",
              "          document.querySelector('#df-a69798e4-b94a-453f-ba59-cf80fa0485ae button.colab-df-convert');\n",
              "        buttonEl.style.display =\n",
              "          google.colab.kernel.accessAllowed ? 'block' : 'none';\n",
              "\n",
              "        async function convertToInteractive(key) {\n",
              "          const element = document.querySelector('#df-a69798e4-b94a-453f-ba59-cf80fa0485ae');\n",
              "          const dataTable =\n",
              "            await google.colab.kernel.invokeFunction('convertToInteractive',\n",
              "                                                     [key], {});\n",
              "          if (!dataTable) return;\n",
              "\n",
              "          const docLinkHtml = 'Like what you see? Visit the ' +\n",
              "            '<a target=\"_blank\" href=https://colab.research.google.com/notebooks/data_table.ipynb>data table notebook</a>'\n",
              "            + ' to learn more about interactive tables.';\n",
              "          element.innerHTML = '';\n",
              "          dataTable['output_type'] = 'display_data';\n",
              "          await google.colab.output.renderOutput(dataTable, element);\n",
              "          const docLink = document.createElement('div');\n",
              "          docLink.innerHTML = docLinkHtml;\n",
              "          element.appendChild(docLink);\n",
              "        }\n",
              "      </script>\n",
              "    </div>\n",
              "  </div>\n",
              "  "
            ]
          },
          "metadata": {},
          "execution_count": 12
        }
      ]
    },
    {
      "cell_type": "markdown",
      "source": [
        "## Посмотю на группы отдельно"
      ],
      "metadata": {
        "id": "5Gwm1tg9G0Do"
      }
    },
    {
      "cell_type": "code",
      "source": [
        "# статистика по группу А контрольная\n",
        "data[data['ab_group']=='A'].describe()"
      ],
      "metadata": {
        "colab": {
          "base_uri": "https://localhost:8080/",
          "height": 300
        },
        "id": "enqgXb7nFifY",
        "outputId": "c2b087a3-783c-41a4-d829-15da86c4e0f3"
      },
      "execution_count": null,
      "outputs": [
        {
          "output_type": "execute_result",
          "data": {
            "text/plain": [
              "            revenue  num_purchases      purchase  av_site visit\n",
              "count  11835.000000   11835.000000  11835.000000   11835.000000\n",
              "mean       0.404462       0.050697      0.021631       6.974724\n",
              "std       13.133218       1.467511      0.145481       2.023533\n",
              "min        0.000000       0.000000      0.000000     -12.073486\n",
              "25%        0.000000       0.000000      0.000000       5.656155\n",
              "50%        0.000000       0.000000      0.000000       6.982329\n",
              "75%        0.000000       0.000000      0.000000       8.345572\n",
              "max     1303.609284     152.000000      1.000000      17.728836"
            ],
            "text/html": [
              "\n",
              "  <div id=\"df-4773901f-d9fa-443d-a5ca-3c1188bd6919\">\n",
              "    <div class=\"colab-df-container\">\n",
              "      <div>\n",
              "<style scoped>\n",
              "    .dataframe tbody tr th:only-of-type {\n",
              "        vertical-align: middle;\n",
              "    }\n",
              "\n",
              "    .dataframe tbody tr th {\n",
              "        vertical-align: top;\n",
              "    }\n",
              "\n",
              "    .dataframe thead th {\n",
              "        text-align: right;\n",
              "    }\n",
              "</style>\n",
              "<table border=\"1\" class=\"dataframe\">\n",
              "  <thead>\n",
              "    <tr style=\"text-align: right;\">\n",
              "      <th></th>\n",
              "      <th>revenue</th>\n",
              "      <th>num_purchases</th>\n",
              "      <th>purchase</th>\n",
              "      <th>av_site visit</th>\n",
              "    </tr>\n",
              "  </thead>\n",
              "  <tbody>\n",
              "    <tr>\n",
              "      <th>count</th>\n",
              "      <td>11835.000000</td>\n",
              "      <td>11835.000000</td>\n",
              "      <td>11835.000000</td>\n",
              "      <td>11835.000000</td>\n",
              "    </tr>\n",
              "    <tr>\n",
              "      <th>mean</th>\n",
              "      <td>0.404462</td>\n",
              "      <td>0.050697</td>\n",
              "      <td>0.021631</td>\n",
              "      <td>6.974724</td>\n",
              "    </tr>\n",
              "    <tr>\n",
              "      <th>std</th>\n",
              "      <td>13.133218</td>\n",
              "      <td>1.467511</td>\n",
              "      <td>0.145481</td>\n",
              "      <td>2.023533</td>\n",
              "    </tr>\n",
              "    <tr>\n",
              "      <th>min</th>\n",
              "      <td>0.000000</td>\n",
              "      <td>0.000000</td>\n",
              "      <td>0.000000</td>\n",
              "      <td>-12.073486</td>\n",
              "    </tr>\n",
              "    <tr>\n",
              "      <th>25%</th>\n",
              "      <td>0.000000</td>\n",
              "      <td>0.000000</td>\n",
              "      <td>0.000000</td>\n",
              "      <td>5.656155</td>\n",
              "    </tr>\n",
              "    <tr>\n",
              "      <th>50%</th>\n",
              "      <td>0.000000</td>\n",
              "      <td>0.000000</td>\n",
              "      <td>0.000000</td>\n",
              "      <td>6.982329</td>\n",
              "    </tr>\n",
              "    <tr>\n",
              "      <th>75%</th>\n",
              "      <td>0.000000</td>\n",
              "      <td>0.000000</td>\n",
              "      <td>0.000000</td>\n",
              "      <td>8.345572</td>\n",
              "    </tr>\n",
              "    <tr>\n",
              "      <th>max</th>\n",
              "      <td>1303.609284</td>\n",
              "      <td>152.000000</td>\n",
              "      <td>1.000000</td>\n",
              "      <td>17.728836</td>\n",
              "    </tr>\n",
              "  </tbody>\n",
              "</table>\n",
              "</div>\n",
              "      <button class=\"colab-df-convert\" onclick=\"convertToInteractive('df-4773901f-d9fa-443d-a5ca-3c1188bd6919')\"\n",
              "              title=\"Convert this dataframe to an interactive table.\"\n",
              "              style=\"display:none;\">\n",
              "        \n",
              "  <svg xmlns=\"http://www.w3.org/2000/svg\" height=\"24px\"viewBox=\"0 0 24 24\"\n",
              "       width=\"24px\">\n",
              "    <path d=\"M0 0h24v24H0V0z\" fill=\"none\"/>\n",
              "    <path d=\"M18.56 5.44l.94 2.06.94-2.06 2.06-.94-2.06-.94-.94-2.06-.94 2.06-2.06.94zm-11 1L8.5 8.5l.94-2.06 2.06-.94-2.06-.94L8.5 2.5l-.94 2.06-2.06.94zm10 10l.94 2.06.94-2.06 2.06-.94-2.06-.94-.94-2.06-.94 2.06-2.06.94z\"/><path d=\"M17.41 7.96l-1.37-1.37c-.4-.4-.92-.59-1.43-.59-.52 0-1.04.2-1.43.59L10.3 9.45l-7.72 7.72c-.78.78-.78 2.05 0 2.83L4 21.41c.39.39.9.59 1.41.59.51 0 1.02-.2 1.41-.59l7.78-7.78 2.81-2.81c.8-.78.8-2.07 0-2.86zM5.41 20L4 18.59l7.72-7.72 1.47 1.35L5.41 20z\"/>\n",
              "  </svg>\n",
              "      </button>\n",
              "      \n",
              "  <style>\n",
              "    .colab-df-container {\n",
              "      display:flex;\n",
              "      flex-wrap:wrap;\n",
              "      gap: 12px;\n",
              "    }\n",
              "\n",
              "    .colab-df-convert {\n",
              "      background-color: #E8F0FE;\n",
              "      border: none;\n",
              "      border-radius: 50%;\n",
              "      cursor: pointer;\n",
              "      display: none;\n",
              "      fill: #1967D2;\n",
              "      height: 32px;\n",
              "      padding: 0 0 0 0;\n",
              "      width: 32px;\n",
              "    }\n",
              "\n",
              "    .colab-df-convert:hover {\n",
              "      background-color: #E2EBFA;\n",
              "      box-shadow: 0px 1px 2px rgba(60, 64, 67, 0.3), 0px 1px 3px 1px rgba(60, 64, 67, 0.15);\n",
              "      fill: #174EA6;\n",
              "    }\n",
              "\n",
              "    [theme=dark] .colab-df-convert {\n",
              "      background-color: #3B4455;\n",
              "      fill: #D2E3FC;\n",
              "    }\n",
              "\n",
              "    [theme=dark] .colab-df-convert:hover {\n",
              "      background-color: #434B5C;\n",
              "      box-shadow: 0px 1px 3px 1px rgba(0, 0, 0, 0.15);\n",
              "      filter: drop-shadow(0px 1px 2px rgba(0, 0, 0, 0.3));\n",
              "      fill: #FFFFFF;\n",
              "    }\n",
              "  </style>\n",
              "\n",
              "      <script>\n",
              "        const buttonEl =\n",
              "          document.querySelector('#df-4773901f-d9fa-443d-a5ca-3c1188bd6919 button.colab-df-convert');\n",
              "        buttonEl.style.display =\n",
              "          google.colab.kernel.accessAllowed ? 'block' : 'none';\n",
              "\n",
              "        async function convertToInteractive(key) {\n",
              "          const element = document.querySelector('#df-4773901f-d9fa-443d-a5ca-3c1188bd6919');\n",
              "          const dataTable =\n",
              "            await google.colab.kernel.invokeFunction('convertToInteractive',\n",
              "                                                     [key], {});\n",
              "          if (!dataTable) return;\n",
              "\n",
              "          const docLinkHtml = 'Like what you see? Visit the ' +\n",
              "            '<a target=\"_blank\" href=https://colab.research.google.com/notebooks/data_table.ipynb>data table notebook</a>'\n",
              "            + ' to learn more about interactive tables.';\n",
              "          element.innerHTML = '';\n",
              "          dataTable['output_type'] = 'display_data';\n",
              "          await google.colab.output.renderOutput(dataTable, element);\n",
              "          const docLink = document.createElement('div');\n",
              "          docLink.innerHTML = docLinkHtml;\n",
              "          element.appendChild(docLink);\n",
              "        }\n",
              "      </script>\n",
              "    </div>\n",
              "  </div>\n",
              "  "
            ]
          },
          "metadata": {},
          "execution_count": 13
        }
      ]
    },
    {
      "cell_type": "code",
      "source": [
        "# статистика по группу В тестовая\n",
        "data[data['ab_group']=='B'].describe()"
      ],
      "metadata": {
        "colab": {
          "base_uri": "https://localhost:8080/",
          "height": 300
        },
        "id": "OXsjsvIGGxkR",
        "outputId": "58e68427-f2c3-410c-ef2f-00bf9c4ffc3f"
      },
      "execution_count": null,
      "outputs": [
        {
          "output_type": "execute_result",
          "data": {
            "text/plain": [
              "            revenue  num_purchases      purchase  av_site visit\n",
              "count  11817.000000   11817.000000  11817.000000   11817.000000\n",
              "mean       0.244794       0.036473      0.019802       7.051559\n",
              "std        3.176534       0.418480      0.139325       3.976799\n",
              "min        0.000000       0.000000      0.000000      -8.286822\n",
              "25%        0.000000       0.000000      0.000000       4.380984\n",
              "50%        0.000000       0.000000      0.000000       7.060873\n",
              "75%        0.000000       0.000000      0.000000       9.768648\n",
              "max      113.830000      25.000000      1.000000      22.446822"
            ],
            "text/html": [
              "\n",
              "  <div id=\"df-50e5b0e0-a09f-4c1c-9667-b6b927643469\">\n",
              "    <div class=\"colab-df-container\">\n",
              "      <div>\n",
              "<style scoped>\n",
              "    .dataframe tbody tr th:only-of-type {\n",
              "        vertical-align: middle;\n",
              "    }\n",
              "\n",
              "    .dataframe tbody tr th {\n",
              "        vertical-align: top;\n",
              "    }\n",
              "\n",
              "    .dataframe thead th {\n",
              "        text-align: right;\n",
              "    }\n",
              "</style>\n",
              "<table border=\"1\" class=\"dataframe\">\n",
              "  <thead>\n",
              "    <tr style=\"text-align: right;\">\n",
              "      <th></th>\n",
              "      <th>revenue</th>\n",
              "      <th>num_purchases</th>\n",
              "      <th>purchase</th>\n",
              "      <th>av_site visit</th>\n",
              "    </tr>\n",
              "  </thead>\n",
              "  <tbody>\n",
              "    <tr>\n",
              "      <th>count</th>\n",
              "      <td>11817.000000</td>\n",
              "      <td>11817.000000</td>\n",
              "      <td>11817.000000</td>\n",
              "      <td>11817.000000</td>\n",
              "    </tr>\n",
              "    <tr>\n",
              "      <th>mean</th>\n",
              "      <td>0.244794</td>\n",
              "      <td>0.036473</td>\n",
              "      <td>0.019802</td>\n",
              "      <td>7.051559</td>\n",
              "    </tr>\n",
              "    <tr>\n",
              "      <th>std</th>\n",
              "      <td>3.176534</td>\n",
              "      <td>0.418480</td>\n",
              "      <td>0.139325</td>\n",
              "      <td>3.976799</td>\n",
              "    </tr>\n",
              "    <tr>\n",
              "      <th>min</th>\n",
              "      <td>0.000000</td>\n",
              "      <td>0.000000</td>\n",
              "      <td>0.000000</td>\n",
              "      <td>-8.286822</td>\n",
              "    </tr>\n",
              "    <tr>\n",
              "      <th>25%</th>\n",
              "      <td>0.000000</td>\n",
              "      <td>0.000000</td>\n",
              "      <td>0.000000</td>\n",
              "      <td>4.380984</td>\n",
              "    </tr>\n",
              "    <tr>\n",
              "      <th>50%</th>\n",
              "      <td>0.000000</td>\n",
              "      <td>0.000000</td>\n",
              "      <td>0.000000</td>\n",
              "      <td>7.060873</td>\n",
              "    </tr>\n",
              "    <tr>\n",
              "      <th>75%</th>\n",
              "      <td>0.000000</td>\n",
              "      <td>0.000000</td>\n",
              "      <td>0.000000</td>\n",
              "      <td>9.768648</td>\n",
              "    </tr>\n",
              "    <tr>\n",
              "      <th>max</th>\n",
              "      <td>113.830000</td>\n",
              "      <td>25.000000</td>\n",
              "      <td>1.000000</td>\n",
              "      <td>22.446822</td>\n",
              "    </tr>\n",
              "  </tbody>\n",
              "</table>\n",
              "</div>\n",
              "      <button class=\"colab-df-convert\" onclick=\"convertToInteractive('df-50e5b0e0-a09f-4c1c-9667-b6b927643469')\"\n",
              "              title=\"Convert this dataframe to an interactive table.\"\n",
              "              style=\"display:none;\">\n",
              "        \n",
              "  <svg xmlns=\"http://www.w3.org/2000/svg\" height=\"24px\"viewBox=\"0 0 24 24\"\n",
              "       width=\"24px\">\n",
              "    <path d=\"M0 0h24v24H0V0z\" fill=\"none\"/>\n",
              "    <path d=\"M18.56 5.44l.94 2.06.94-2.06 2.06-.94-2.06-.94-.94-2.06-.94 2.06-2.06.94zm-11 1L8.5 8.5l.94-2.06 2.06-.94-2.06-.94L8.5 2.5l-.94 2.06-2.06.94zm10 10l.94 2.06.94-2.06 2.06-.94-2.06-.94-.94-2.06-.94 2.06-2.06.94z\"/><path d=\"M17.41 7.96l-1.37-1.37c-.4-.4-.92-.59-1.43-.59-.52 0-1.04.2-1.43.59L10.3 9.45l-7.72 7.72c-.78.78-.78 2.05 0 2.83L4 21.41c.39.39.9.59 1.41.59.51 0 1.02-.2 1.41-.59l7.78-7.78 2.81-2.81c.8-.78.8-2.07 0-2.86zM5.41 20L4 18.59l7.72-7.72 1.47 1.35L5.41 20z\"/>\n",
              "  </svg>\n",
              "      </button>\n",
              "      \n",
              "  <style>\n",
              "    .colab-df-container {\n",
              "      display:flex;\n",
              "      flex-wrap:wrap;\n",
              "      gap: 12px;\n",
              "    }\n",
              "\n",
              "    .colab-df-convert {\n",
              "      background-color: #E8F0FE;\n",
              "      border: none;\n",
              "      border-radius: 50%;\n",
              "      cursor: pointer;\n",
              "      display: none;\n",
              "      fill: #1967D2;\n",
              "      height: 32px;\n",
              "      padding: 0 0 0 0;\n",
              "      width: 32px;\n",
              "    }\n",
              "\n",
              "    .colab-df-convert:hover {\n",
              "      background-color: #E2EBFA;\n",
              "      box-shadow: 0px 1px 2px rgba(60, 64, 67, 0.3), 0px 1px 3px 1px rgba(60, 64, 67, 0.15);\n",
              "      fill: #174EA6;\n",
              "    }\n",
              "\n",
              "    [theme=dark] .colab-df-convert {\n",
              "      background-color: #3B4455;\n",
              "      fill: #D2E3FC;\n",
              "    }\n",
              "\n",
              "    [theme=dark] .colab-df-convert:hover {\n",
              "      background-color: #434B5C;\n",
              "      box-shadow: 0px 1px 3px 1px rgba(0, 0, 0, 0.15);\n",
              "      filter: drop-shadow(0px 1px 2px rgba(0, 0, 0, 0.3));\n",
              "      fill: #FFFFFF;\n",
              "    }\n",
              "  </style>\n",
              "\n",
              "      <script>\n",
              "        const buttonEl =\n",
              "          document.querySelector('#df-50e5b0e0-a09f-4c1c-9667-b6b927643469 button.colab-df-convert');\n",
              "        buttonEl.style.display =\n",
              "          google.colab.kernel.accessAllowed ? 'block' : 'none';\n",
              "\n",
              "        async function convertToInteractive(key) {\n",
              "          const element = document.querySelector('#df-50e5b0e0-a09f-4c1c-9667-b6b927643469');\n",
              "          const dataTable =\n",
              "            await google.colab.kernel.invokeFunction('convertToInteractive',\n",
              "                                                     [key], {});\n",
              "          if (!dataTable) return;\n",
              "\n",
              "          const docLinkHtml = 'Like what you see? Visit the ' +\n",
              "            '<a target=\"_blank\" href=https://colab.research.google.com/notebooks/data_table.ipynb>data table notebook</a>'\n",
              "            + ' to learn more about interactive tables.';\n",
              "          element.innerHTML = '';\n",
              "          dataTable['output_type'] = 'display_data';\n",
              "          await google.colab.output.renderOutput(dataTable, element);\n",
              "          const docLink = document.createElement('div');\n",
              "          docLink.innerHTML = docLinkHtml;\n",
              "          element.appendChild(docLink);\n",
              "        }\n",
              "      </script>\n",
              "    </div>\n",
              "  </div>\n",
              "  "
            ]
          },
          "metadata": {},
          "execution_count": 14
        }
      ]
    },
    {
      "cell_type": "code",
      "source": [
        "data"
      ],
      "metadata": {
        "colab": {
          "base_uri": "https://localhost:8080/",
          "height": 424
        },
        "id": "M6pQjh4wGxmq",
        "outputId": "bab77f7d-73a6-44fd-f65a-b02b66447f82"
      },
      "execution_count": null,
      "outputs": [
        {
          "output_type": "execute_result",
          "data": {
            "text/plain": [
              "       revenue  num_purchases  purchase ab_group  av_site visit\n",
              "0          0.0              0         0        A       9.040174\n",
              "1          0.0              0         0        A       4.811628\n",
              "2          0.0              0         0        A       7.342623\n",
              "3          0.0              0         0        A       7.744581\n",
              "4          0.0              0         0        A      10.511814\n",
              "...        ...            ...       ...      ...            ...\n",
              "23647      0.0              0         0        B      10.207152\n",
              "23648      0.0              0         0        B       5.148761\n",
              "23649      0.0              0         0        B       4.809019\n",
              "23650      0.0              0         0        B       8.127488\n",
              "23651      0.0              0         0        B       8.928102\n",
              "\n",
              "[23652 rows x 5 columns]"
            ],
            "text/html": [
              "\n",
              "  <div id=\"df-5bdbd424-38ec-4ba0-ad6e-e6f8be4f65fa\">\n",
              "    <div class=\"colab-df-container\">\n",
              "      <div>\n",
              "<style scoped>\n",
              "    .dataframe tbody tr th:only-of-type {\n",
              "        vertical-align: middle;\n",
              "    }\n",
              "\n",
              "    .dataframe tbody tr th {\n",
              "        vertical-align: top;\n",
              "    }\n",
              "\n",
              "    .dataframe thead th {\n",
              "        text-align: right;\n",
              "    }\n",
              "</style>\n",
              "<table border=\"1\" class=\"dataframe\">\n",
              "  <thead>\n",
              "    <tr style=\"text-align: right;\">\n",
              "      <th></th>\n",
              "      <th>revenue</th>\n",
              "      <th>num_purchases</th>\n",
              "      <th>purchase</th>\n",
              "      <th>ab_group</th>\n",
              "      <th>av_site visit</th>\n",
              "    </tr>\n",
              "  </thead>\n",
              "  <tbody>\n",
              "    <tr>\n",
              "      <th>0</th>\n",
              "      <td>0.0</td>\n",
              "      <td>0</td>\n",
              "      <td>0</td>\n",
              "      <td>A</td>\n",
              "      <td>9.040174</td>\n",
              "    </tr>\n",
              "    <tr>\n",
              "      <th>1</th>\n",
              "      <td>0.0</td>\n",
              "      <td>0</td>\n",
              "      <td>0</td>\n",
              "      <td>A</td>\n",
              "      <td>4.811628</td>\n",
              "    </tr>\n",
              "    <tr>\n",
              "      <th>2</th>\n",
              "      <td>0.0</td>\n",
              "      <td>0</td>\n",
              "      <td>0</td>\n",
              "      <td>A</td>\n",
              "      <td>7.342623</td>\n",
              "    </tr>\n",
              "    <tr>\n",
              "      <th>3</th>\n",
              "      <td>0.0</td>\n",
              "      <td>0</td>\n",
              "      <td>0</td>\n",
              "      <td>A</td>\n",
              "      <td>7.744581</td>\n",
              "    </tr>\n",
              "    <tr>\n",
              "      <th>4</th>\n",
              "      <td>0.0</td>\n",
              "      <td>0</td>\n",
              "      <td>0</td>\n",
              "      <td>A</td>\n",
              "      <td>10.511814</td>\n",
              "    </tr>\n",
              "    <tr>\n",
              "      <th>...</th>\n",
              "      <td>...</td>\n",
              "      <td>...</td>\n",
              "      <td>...</td>\n",
              "      <td>...</td>\n",
              "      <td>...</td>\n",
              "    </tr>\n",
              "    <tr>\n",
              "      <th>23647</th>\n",
              "      <td>0.0</td>\n",
              "      <td>0</td>\n",
              "      <td>0</td>\n",
              "      <td>B</td>\n",
              "      <td>10.207152</td>\n",
              "    </tr>\n",
              "    <tr>\n",
              "      <th>23648</th>\n",
              "      <td>0.0</td>\n",
              "      <td>0</td>\n",
              "      <td>0</td>\n",
              "      <td>B</td>\n",
              "      <td>5.148761</td>\n",
              "    </tr>\n",
              "    <tr>\n",
              "      <th>23649</th>\n",
              "      <td>0.0</td>\n",
              "      <td>0</td>\n",
              "      <td>0</td>\n",
              "      <td>B</td>\n",
              "      <td>4.809019</td>\n",
              "    </tr>\n",
              "    <tr>\n",
              "      <th>23650</th>\n",
              "      <td>0.0</td>\n",
              "      <td>0</td>\n",
              "      <td>0</td>\n",
              "      <td>B</td>\n",
              "      <td>8.127488</td>\n",
              "    </tr>\n",
              "    <tr>\n",
              "      <th>23651</th>\n",
              "      <td>0.0</td>\n",
              "      <td>0</td>\n",
              "      <td>0</td>\n",
              "      <td>B</td>\n",
              "      <td>8.928102</td>\n",
              "    </tr>\n",
              "  </tbody>\n",
              "</table>\n",
              "<p>23652 rows × 5 columns</p>\n",
              "</div>\n",
              "      <button class=\"colab-df-convert\" onclick=\"convertToInteractive('df-5bdbd424-38ec-4ba0-ad6e-e6f8be4f65fa')\"\n",
              "              title=\"Convert this dataframe to an interactive table.\"\n",
              "              style=\"display:none;\">\n",
              "        \n",
              "  <svg xmlns=\"http://www.w3.org/2000/svg\" height=\"24px\"viewBox=\"0 0 24 24\"\n",
              "       width=\"24px\">\n",
              "    <path d=\"M0 0h24v24H0V0z\" fill=\"none\"/>\n",
              "    <path d=\"M18.56 5.44l.94 2.06.94-2.06 2.06-.94-2.06-.94-.94-2.06-.94 2.06-2.06.94zm-11 1L8.5 8.5l.94-2.06 2.06-.94-2.06-.94L8.5 2.5l-.94 2.06-2.06.94zm10 10l.94 2.06.94-2.06 2.06-.94-2.06-.94-.94-2.06-.94 2.06-2.06.94z\"/><path d=\"M17.41 7.96l-1.37-1.37c-.4-.4-.92-.59-1.43-.59-.52 0-1.04.2-1.43.59L10.3 9.45l-7.72 7.72c-.78.78-.78 2.05 0 2.83L4 21.41c.39.39.9.59 1.41.59.51 0 1.02-.2 1.41-.59l7.78-7.78 2.81-2.81c.8-.78.8-2.07 0-2.86zM5.41 20L4 18.59l7.72-7.72 1.47 1.35L5.41 20z\"/>\n",
              "  </svg>\n",
              "      </button>\n",
              "      \n",
              "  <style>\n",
              "    .colab-df-container {\n",
              "      display:flex;\n",
              "      flex-wrap:wrap;\n",
              "      gap: 12px;\n",
              "    }\n",
              "\n",
              "    .colab-df-convert {\n",
              "      background-color: #E8F0FE;\n",
              "      border: none;\n",
              "      border-radius: 50%;\n",
              "      cursor: pointer;\n",
              "      display: none;\n",
              "      fill: #1967D2;\n",
              "      height: 32px;\n",
              "      padding: 0 0 0 0;\n",
              "      width: 32px;\n",
              "    }\n",
              "\n",
              "    .colab-df-convert:hover {\n",
              "      background-color: #E2EBFA;\n",
              "      box-shadow: 0px 1px 2px rgba(60, 64, 67, 0.3), 0px 1px 3px 1px rgba(60, 64, 67, 0.15);\n",
              "      fill: #174EA6;\n",
              "    }\n",
              "\n",
              "    [theme=dark] .colab-df-convert {\n",
              "      background-color: #3B4455;\n",
              "      fill: #D2E3FC;\n",
              "    }\n",
              "\n",
              "    [theme=dark] .colab-df-convert:hover {\n",
              "      background-color: #434B5C;\n",
              "      box-shadow: 0px 1px 3px 1px rgba(0, 0, 0, 0.15);\n",
              "      filter: drop-shadow(0px 1px 2px rgba(0, 0, 0, 0.3));\n",
              "      fill: #FFFFFF;\n",
              "    }\n",
              "  </style>\n",
              "\n",
              "      <script>\n",
              "        const buttonEl =\n",
              "          document.querySelector('#df-5bdbd424-38ec-4ba0-ad6e-e6f8be4f65fa button.colab-df-convert');\n",
              "        buttonEl.style.display =\n",
              "          google.colab.kernel.accessAllowed ? 'block' : 'none';\n",
              "\n",
              "        async function convertToInteractive(key) {\n",
              "          const element = document.querySelector('#df-5bdbd424-38ec-4ba0-ad6e-e6f8be4f65fa');\n",
              "          const dataTable =\n",
              "            await google.colab.kernel.invokeFunction('convertToInteractive',\n",
              "                                                     [key], {});\n",
              "          if (!dataTable) return;\n",
              "\n",
              "          const docLinkHtml = 'Like what you see? Visit the ' +\n",
              "            '<a target=\"_blank\" href=https://colab.research.google.com/notebooks/data_table.ipynb>data table notebook</a>'\n",
              "            + ' to learn more about interactive tables.';\n",
              "          element.innerHTML = '';\n",
              "          dataTable['output_type'] = 'display_data';\n",
              "          await google.colab.output.renderOutput(dataTable, element);\n",
              "          const docLink = document.createElement('div');\n",
              "          docLink.innerHTML = docLinkHtml;\n",
              "          element.appendChild(docLink);\n",
              "        }\n",
              "      </script>\n",
              "    </div>\n",
              "  </div>\n",
              "  "
            ]
          },
          "metadata": {},
          "execution_count": 15
        }
      ]
    },
    {
      "cell_type": "markdown",
      "source": [
        "Уже можно заметить, что максимальный чек в первой группе сильно больше, чем в группе B. Среднее очень неустойчиво к выбросам, так что необходимо будет это учесть."
      ],
      "metadata": {
        "id": "BchnLCWQILbf"
      }
    },
    {
      "cell_type": "markdown",
      "source": [
        "# Проверка на нормальность распределения и применение статистических критериев"
      ],
      "metadata": {
        "id": "tgZtZUjkIPyj"
      }
    },
    {
      "cell_type": "markdown",
      "source": [
        "Метрика визиты на юзера"
      ],
      "metadata": {
        "id": "qB6dmxdfIknh"
      }
    },
    {
      "cell_type": "code",
      "source": [
        "plt.figure(figsize=(5, 5))\n",
        "control_visit_all = data['av_site visit'][data['ab_group'] == 'A']    # по столбцу визит юзера, выведем только из категории А\n",
        "test_visit_all =data['av_site visit'][data['ab_group'] == 'B']              # по столбцу визит юзера, выведем только из категории В\n",
        " \n",
        "\n",
        "plt.hist(control_visit_all, color='r', bins=50)                           # отметим на гистограмме красным группу А\n",
        "plt.hist(test_visit_all,  bins=50)                                         # отметим на гистограмме красным группу В\n",
        "\n",
        "\n",
        "plt.show()"
      ],
      "metadata": {
        "colab": {
          "base_uri": "https://localhost:8080/",
          "height": 445
        },
        "id": "z9u57T4CGxpB",
        "outputId": "b0f7aac7-7b49-4b3e-d91c-4e07d269bd65"
      },
      "execution_count": null,
      "outputs": [
        {
          "output_type": "display_data",
          "data": {
            "text/plain": [
              "<Figure size 500x500 with 1 Axes>"
            ],
            "image/png": "[encoded data removed]"
          },
          "metadata": {}
        }
      ]
    },
    {
      "cell_type": "code",
      "source": [
        "import scipy.stats as stats\n",
        "\n",
        "stats.ttest_ind(control_visit_all, test_visit_all, equal_var = False)\n",
        "# equal var это указание что дисперсии не равны, и вообще чтоб были равны это редкость"
      ],
      "metadata": {
        "colab": {
          "base_uri": "https://localhost:8080/"
        },
        "id": "6PED9sYTGxrZ",
        "outputId": "d85d566b-53db-41b5-df6e-0783bdff49b6"
      },
      "execution_count": null,
      "outputs": [
        {
          "output_type": "execute_result",
          "data": {
            "text/plain": [
              "Ttest_indResult(statistic=-1.872183970103851, pvalue=0.06119777801292236)"
            ]
          },
          "metadata": {},
          "execution_count": 7
        }
      ]
    },
    {
      "cell_type": "markdown",
      "source": [
        "# Метрика доля юзеров с покупкой"
      ],
      "metadata": {
        "id": "JiSvUfKLxZYK"
      }
    },
    {
      "cell_type": "code",
      "source": [
        "plt.figure(figsize=(5, 5))\n",
        "control_visit = data['av_site visit'][(data['ab_group'] == 'A')&(data['purchase'] == 1)]         # фильтрую группу, 1 означает, что пользователь совершил покупку\n",
        "test_visit =data['av_site visit'][(data['ab_group'] == 'B')&(data['purchase'] == 1)]\n",
        "plt.hist(test_visit,  bins=20)\n",
        "plt.hist(control_visit, color='r', bins=20)\n",
        "\n",
        "plt.show()"
      ],
      "metadata": {
        "id": "PP_TJPtgGxts",
        "colab": {
          "base_uri": "https://localhost:8080/",
          "height": 445
        },
        "outputId": "b9139792-ca1f-41ab-91ac-0a87d24fe6cc"
      },
      "execution_count": null,
      "outputs": [
        {
          "output_type": "display_data",
          "data": {
            "text/plain": [
              "<Figure size 500x500 with 1 Axes>"
            ],
            "image/png": "[encoded data removed]"
          },
          "metadata": {}
        }
      ]
    },
    {
      "cell_type": "markdown",
      "source": [
        "# синяя, тестовая группа - имеем большую дисперсию"
      ],
      "metadata": {
        "id": "WgJdyXiiyPbq"
      }
    },
    {
      "cell_type": "code",
      "source": [
        "# отношение между теми кто совершил хоть одну покупку и кто не покупал\n",
        "data['purchase'].value_counts()"
      ],
      "metadata": {
        "id": "DYy3Z5T4GxwY",
        "colab": {
          "base_uri": "https://localhost:8080/"
        },
        "outputId": "4967ea5a-d804-4a06-e962-8f0d8d7b95f8"
      },
      "execution_count": null,
      "outputs": [
        {
          "output_type": "execute_result",
          "data": {
            "text/plain": [
              "0    23162\n",
              "1      490\n",
              "Name: purchase, dtype: int64"
            ]
          },
          "metadata": {},
          "execution_count": 16
        }
      ]
    },
    {
      "cell_type": "code",
      "source": [
        "# сумма всего юзеров у которых была хоть одна покупка\n",
        "k1 = data[data['ab_group']=='A']['purchase'].sum()\n",
        "k2 = data[data['ab_group']=='B']['purchase'].sum()"
      ],
      "metadata": {
        "id": "n3keTc5NGxzK"
      },
      "execution_count": null,
      "outputs": []
    },
    {
      "cell_type": "code",
      "source": [
        "# общее кол-во пользователей в группах\n",
        "n1 = data[data['ab_group']=='A'].shape[0]\n",
        "n2 = data[data['ab_group']=='B'].shape[0]"
      ],
      "metadata": {
        "id": "xM5F9QXFymmq"
      },
      "execution_count": null,
      "outputs": []
    },
    {
      "cell_type": "code",
      "source": [
        "from statsmodels.stats import proportion              # метрика пропорции. можно применить z критерий пропорции\n",
        "\n",
        "z_score, z_pvalue = proportion.proportions_ztest(np.array([k1, k2]),                     # передаю массив из числителей и знаменателей\n",
        "                                                   np.array([n1, n2]))\n",
        "print('Results are ','z_score =%.3f, pvalue = %.3f'%(z_score, z_pvalue))"
      ],
      "metadata": {
        "colab": {
          "base_uri": "https://localhost:8080/"
        },
        "id": "MiAE1fALympZ",
        "outputId": "426b5a27-d743-48ca-dd41-c473f76dc23f"
      },
      "execution_count": null,
      "outputs": [
        {
          "output_type": "stream",
          "name": "stdout",
          "text": [
            "Results are  z_score =0.987, pvalue = 0.323\n"
          ]
        }
      ]
    },
    {
      "cell_type": "code",
      "source": [
        "if abs(z_pvalue) < 0.05:\n",
        "    print(\"We may reject the null hypothesis!\")\n",
        "else:\n",
        "    print(\"We have failed to reject the null hypothesis\")"
      ],
      "metadata": {
        "colab": {
          "base_uri": "https://localhost:8080/"
        },
        "id": "eEYHmJHX00Om",
        "outputId": "de1deb12-88a5-4539-c962-cac25ef7900d"
      },
      "execution_count": null,
      "outputs": [
        {
          "output_type": "stream",
          "name": "stdout",
          "text": [
            "We have failed to reject the null hypothesis\n"
          ]
        }
      ]
    },
    {
      "cell_type": "code",
      "source": [],
      "metadata": {
        "id": "7yEkq0ah5RSA"
      },
      "execution_count": null,
      "outputs": []
    },
    {
      "cell_type": "markdown",
      "source": [
        "p-value = 0.323 > 5% значит Н0 не можем отвергнуть в пользу альтернативной"
      ],
      "metadata": {
        "id": "SrQ0-lm70i5n"
      }
    },
    {
      "cell_type": "markdown",
      "source": [
        "Перепроверю проверкой Хи квадрат\n",
        "## Непараметрический Хи-квадрат"
      ],
      "metadata": {
        "id": "noATMGVN06Gk"
      }
    },
    {
      "cell_type": "code",
      "source": [
        "chisq, pvalue, table = proportion.proportions_chisquare(np.array([k1, k2]), \n",
        "                                                   np.array([n1, n2]))\n",
        "\n",
        "print('Results are ','chisq =%.3f, pvalue = %.3f'%(chisq, pvalue))"
      ],
      "metadata": {
        "colab": {
          "base_uri": "https://localhost:8080/"
        },
        "id": "nXrbAMa9ymr9",
        "outputId": "aad7e4c5-bf15-4628-d4f4-7221c4aeed2c"
      },
      "execution_count": null,
      "outputs": [
        {
          "output_type": "stream",
          "name": "stdout",
          "text": [
            "Results are  chisq =0.975, pvalue = 0.323\n"
          ]
        }
      ]
    },
    {
      "cell_type": "code",
      "source": [
        "if abs(pvalue) < 0.05:\n",
        "    print(\"We may reject the null hypothesis!\")\n",
        "else:\n",
        "    print(\"We have failed to reject the null hypothesis\")"
      ],
      "metadata": {
        "colab": {
          "base_uri": "https://localhost:8080/"
        },
        "id": "vC2ww11Cymuh",
        "outputId": "8f5fc83b-ed34-4f49-bc91-fd6789873a0d"
      },
      "execution_count": null,
      "outputs": [
        {
          "output_type": "stream",
          "name": "stdout",
          "text": [
            "We have failed to reject the null hypothesis\n"
          ]
        }
      ]
    },
    {
      "cell_type": "markdown",
      "source": [
        "Резултат p-value не меняется, так же не можем отклонить Н0 в пользу альтернативной, доля платящих пользователей статистически не различается в двух группах"
      ],
      "metadata": {
        "id": "akE8bvdd5XCl"
      }
    },
    {
      "cell_type": "markdown",
      "source": [
        "# Метрика arpu - средняя выручка на пользователя"
      ],
      "metadata": {
        "id": "RFsbPIjr35rs"
      }
    },
    {
      "cell_type": "markdown",
      "source": [
        "### Непараметрический критерий Манн-Уитни"
      ],
      "metadata": {
        "id": "a53cpAi23-2v"
      }
    },
    {
      "cell_type": "code",
      "source": [
        "data.groupby('ab_group')['revenue'].describe()"
      ],
      "metadata": {
        "colab": {
          "base_uri": "https://localhost:8080/",
          "height": 143
        },
        "id": "V3144-bXymw_",
        "outputId": "98cf186f-6c9a-4cfa-e32a-a3abd3d18df9"
      },
      "execution_count": null,
      "outputs": [
        {
          "output_type": "execute_result",
          "data": {
            "text/plain": [
              "            count      mean        std  min  25%  50%  75%          max\n",
              "ab_group                                                               \n",
              "A         11835.0  0.404462  13.133218  0.0  0.0  0.0  0.0  1303.609284\n",
              "B         11817.0  0.244794   3.176534  0.0  0.0  0.0  0.0   113.830000"
            ],
            "text/html": [
              "\n",
              "  <div id=\"df-11cf8647-678c-4108-8f24-ecf650e5d9dd\">\n",
              "    <div class=\"colab-df-container\">\n",
              "      <div>\n",
              "<style scoped>\n",
              "    .dataframe tbody tr th:only-of-type {\n",
              "        vertical-align: middle;\n",
              "    }\n",
              "\n",
              "    .dataframe tbody tr th {\n",
              "        vertical-align: top;\n",
              "    }\n",
              "\n",
              "    .dataframe thead th {\n",
              "        text-align: right;\n",
              "    }\n",
              "</style>\n",
              "<table border=\"1\" class=\"dataframe\">\n",
              "  <thead>\n",
              "    <tr style=\"text-align: right;\">\n",
              "      <th></th>\n",
              "      <th>count</th>\n",
              "      <th>mean</th>\n",
              "      <th>std</th>\n",
              "      <th>min</th>\n",
              "      <th>25%</th>\n",
              "      <th>50%</th>\n",
              "      <th>75%</th>\n",
              "      <th>max</th>\n",
              "    </tr>\n",
              "    <tr>\n",
              "      <th>ab_group</th>\n",
              "      <th></th>\n",
              "      <th></th>\n",
              "      <th></th>\n",
              "      <th></th>\n",
              "      <th></th>\n",
              "      <th></th>\n",
              "      <th></th>\n",
              "      <th></th>\n",
              "    </tr>\n",
              "  </thead>\n",
              "  <tbody>\n",
              "    <tr>\n",
              "      <th>A</th>\n",
              "      <td>11835.0</td>\n",
              "      <td>0.404462</td>\n",
              "      <td>13.133218</td>\n",
              "      <td>0.0</td>\n",
              "      <td>0.0</td>\n",
              "      <td>0.0</td>\n",
              "      <td>0.0</td>\n",
              "      <td>1303.609284</td>\n",
              "    </tr>\n",
              "    <tr>\n",
              "      <th>B</th>\n",
              "      <td>11817.0</td>\n",
              "      <td>0.244794</td>\n",
              "      <td>3.176534</td>\n",
              "      <td>0.0</td>\n",
              "      <td>0.0</td>\n",
              "      <td>0.0</td>\n",
              "      <td>0.0</td>\n",
              "      <td>113.830000</td>\n",
              "    </tr>\n",
              "  </tbody>\n",
              "</table>\n",
              "</div>\n",
              "      <button class=\"colab-df-convert\" onclick=\"convertToInteractive('df-11cf8647-678c-4108-8f24-ecf650e5d9dd')\"\n",
              "              title=\"Convert this dataframe to an interactive table.\"\n",
              "              style=\"display:none;\">\n",
              "        \n",
              "  <svg xmlns=\"http://www.w3.org/2000/svg\" height=\"24px\"viewBox=\"0 0 24 24\"\n",
              "       width=\"24px\">\n",
              "    <path d=\"M0 0h24v24H0V0z\" fill=\"none\"/>\n",
              "    <path d=\"M18.56 5.44l.94 2.06.94-2.06 2.06-.94-2.06-.94-.94-2.06-.94 2.06-2.06.94zm-11 1L8.5 8.5l.94-2.06 2.06-.94-2.06-.94L8.5 2.5l-.94 2.06-2.06.94zm10 10l.94 2.06.94-2.06 2.06-.94-2.06-.94-.94-2.06-.94 2.06-2.06.94z\"/><path d=\"M17.41 7.96l-1.37-1.37c-.4-.4-.92-.59-1.43-.59-.52 0-1.04.2-1.43.59L10.3 9.45l-7.72 7.72c-.78.78-.78 2.05 0 2.83L4 21.41c.39.39.9.59 1.41.59.51 0 1.02-.2 1.41-.59l7.78-7.78 2.81-2.81c.8-.78.8-2.07 0-2.86zM5.41 20L4 18.59l7.72-7.72 1.47 1.35L5.41 20z\"/>\n",
              "  </svg>\n",
              "      </button>\n",
              "      \n",
              "  <style>\n",
              "    .colab-df-container {\n",
              "      display:flex;\n",
              "      flex-wrap:wrap;\n",
              "      gap: 12px;\n",
              "    }\n",
              "\n",
              "    .colab-df-convert {\n",
              "      background-color: #E8F0FE;\n",
              "      border: none;\n",
              "      border-radius: 50%;\n",
              "      cursor: pointer;\n",
              "      display: none;\n",
              "      fill: #1967D2;\n",
              "      height: 32px;\n",
              "      padding: 0 0 0 0;\n",
              "      width: 32px;\n",
              "    }\n",
              "\n",
              "    .colab-df-convert:hover {\n",
              "      background-color: #E2EBFA;\n",
              "      box-shadow: 0px 1px 2px rgba(60, 64, 67, 0.3), 0px 1px 3px 1px rgba(60, 64, 67, 0.15);\n",
              "      fill: #174EA6;\n",
              "    }\n",
              "\n",
              "    [theme=dark] .colab-df-convert {\n",
              "      background-color: #3B4455;\n",
              "      fill: #D2E3FC;\n",
              "    }\n",
              "\n",
              "    [theme=dark] .colab-df-convert:hover {\n",
              "      background-color: #434B5C;\n",
              "      box-shadow: 0px 1px 3px 1px rgba(0, 0, 0, 0.15);\n",
              "      filter: drop-shadow(0px 1px 2px rgba(0, 0, 0, 0.3));\n",
              "      fill: #FFFFFF;\n",
              "    }\n",
              "  </style>\n",
              "\n",
              "      <script>\n",
              "        const buttonEl =\n",
              "          document.querySelector('#df-11cf8647-678c-4108-8f24-ecf650e5d9dd button.colab-df-convert');\n",
              "        buttonEl.style.display =\n",
              "          google.colab.kernel.accessAllowed ? 'block' : 'none';\n",
              "\n",
              "        async function convertToInteractive(key) {\n",
              "          const element = document.querySelector('#df-11cf8647-678c-4108-8f24-ecf650e5d9dd');\n",
              "          const dataTable =\n",
              "            await google.colab.kernel.invokeFunction('convertToInteractive',\n",
              "                                                     [key], {});\n",
              "          if (!dataTable) return;\n",
              "\n",
              "          const docLinkHtml = 'Like what you see? Visit the ' +\n",
              "            '<a target=\"_blank\" href=https://colab.research.google.com/notebooks/data_table.ipynb>data table notebook</a>'\n",
              "            + ' to learn more about interactive tables.';\n",
              "          element.innerHTML = '';\n",
              "          dataTable['output_type'] = 'display_data';\n",
              "          await google.colab.output.renderOutput(dataTable, element);\n",
              "          const docLink = document.createElement('div');\n",
              "          docLink.innerHTML = docLinkHtml;\n",
              "          element.appendChild(docLink);\n",
              "        }\n",
              "      </script>\n",
              "    </div>\n",
              "  </div>\n",
              "  "
            ]
          },
          "metadata": {},
          "execution_count": 22
        }
      ]
    },
    {
      "cell_type": "markdown",
      "source": [
        "видно, что в гр А средняя выручка больше чем в гр В. Данные по выручке чаще всего распределены не нормально, и для этого можно применить критерий Мана Уитни"
      ],
      "metadata": {
        "id": "5vfi9rhm6ZUx"
      }
    },
    {
      "cell_type": "code",
      "source": [
        "# разница между платящими пользователями\n",
        "from scipy.stats import mannwhitneyu\n",
        "\n",
        "mw_stats = mannwhitneyu(x=data[(data['ab_group'] == 'A')&(data['purchase'] == 1)]['revenue'].values,\n",
        "                                                  y=data[(data['ab_group'] == 'B')&(data['purchase'] == 1)]['revenue'].values)\n",
        "mw_stats"
      ],
      "metadata": {
        "colab": {
          "base_uri": "https://localhost:8080/"
        },
        "id": "l91imF2_ymzi",
        "outputId": "10a29625-68bb-40f1-88ad-88abc73fc5ed"
      },
      "execution_count": null,
      "outputs": [
        {
          "output_type": "execute_result",
          "data": {
            "text/plain": [
              "MannwhitneyuResult(statistic=29729.5, pvalue=0.8871956616344514)"
            ]
          },
          "metadata": {},
          "execution_count": 23
        }
      ]
    },
    {
      "cell_type": "markdown",
      "source": [
        "Критерий Мана Уитни так же говорит, что стат значимых разлиий в группах нет, Мы не можем принять альтернативную гипотезу о разнице arpu"
      ],
      "metadata": {
        "id": "RMatT0fF7UIM"
      }
    },
    {
      "cell_type": "markdown",
      "source": [
        "## проверю отличия в среднем колличестве покупок на пользователя\n"
      ],
      "metadata": {
        "id": "skYYmzGY7u7L"
      }
    },
    {
      "cell_type": "code",
      "source": [
        "mw_stats = mannwhitneyu(x=data[data['ab_group'] == 'A']['num_purchases'].values,\n",
        "                                                  y=data[data['ab_group'] == 'B']['num_purchases'].values)\n",
        "mw_stats"
      ],
      "metadata": {
        "colab": {
          "base_uri": "https://localhost:8080/"
        },
        "id": "Wj3ivl_T7vIt",
        "outputId": "577033d1-d373-41b8-fba1-2be343e1f442"
      },
      "execution_count": null,
      "outputs": [
        {
          "output_type": "execute_result",
          "data": {
            "text/plain": [
              "MannwhitneyuResult(statistic=70054599.0, pvalue=0.3249718497892071)"
            ]
          },
          "metadata": {},
          "execution_count": 25
        }
      ]
    },
    {
      "cell_type": "markdown",
      "source": [
        "так же стат значимых раздличий между группами нет"
      ],
      "metadata": {
        "id": "xd6FbST59JXw"
      }
    },
    {
      "cell_type": "markdown",
      "source": [
        "### Вывод, выкатывать изменения с тестовой группы не нажно. Т.К статистических различий между тестовой и контрольной группой НЕТ. Оснований отвергнуть нулевую гипотезу НЕТ"
      ],
      "metadata": {
        "id": "zc_Clmvc-4Br"
      }
    },
    {
      "cell_type": "markdown",
      "source": [
        "# Рассмотрю кейс с рекламной выручкой\n",
        "Есть ли стат отличия между средней выручкой на пользователя в контрольной и тествой группах ?"
      ],
      "metadata": {
        "id": "aEjlWzNG4I9H"
      }
    },
    {
      "cell_type": "code",
      "source": [
        "import pandas as pd\n",
        "import numpy as np\n",
        "import matplotlib.pyplot as plt\n",
        "from google_drive_downloader import GoogleDriveDownloader as gdd\n",
        "\n",
        "gdd.download_file_from_google_drive(file_id='1IGMgJP_XqQwA6h_w1KYG7TQJhS15h4c4',\n",
        "                                    dest_path='./test.xlsx');"
      ],
      "metadata": {
        "colab": {
          "base_uri": "https://localhost:8080/"
        },
        "id": "bahffjpPym1-",
        "outputId": "c8d626e4-5de3-428c-e997-7bbb81eb45bb"
      },
      "execution_count": null,
      "outputs": [
        {
          "output_type": "stream",
          "name": "stdout",
          "text": [
            "Downloading 1IGMgJP_XqQwA6h_w1KYG7TQJhS15h4c4 into ./test.xlsx... Done.\n"
          ]
        }
      ]
    },
    {
      "cell_type": "code",
      "source": [
        "df = pd.read_excel('test.xlsx')"
      ],
      "metadata": {
        "id": "1e5TO1Neym5G"
      },
      "execution_count": null,
      "outputs": []
    },
    {
      "cell_type": "code",
      "source": [
        "df.head(10)"
      ],
      "metadata": {
        "colab": {
          "base_uri": "https://localhost:8080/",
          "height": 363
        },
        "id": "wvpI5P6Aym7_",
        "outputId": "34758be7-907d-4f84-f442-6a626be684fe"
      },
      "execution_count": null,
      "outputs": [
        {
          "output_type": "execute_result",
          "data": {
            "text/plain": [
              "   USER_ID VARIANT_NAME  REVENUE\n",
              "0      737      variant      0.0\n",
              "1     2423      control      0.0\n",
              "2     9411      control      0.0\n",
              "3     7311      control      0.0\n",
              "4     6174      variant      0.0\n",
              "5     2380      variant      0.0\n",
              "6     2849      control      0.0\n",
              "7     9168      control      0.0\n",
              "8     6205      variant      0.0\n",
              "9     7548      control      0.0"
            ],
            "text/html": [
              "\n",
              "  <div id=\"df-bae692fd-69d3-4bd5-85e6-95cf4f9a0469\">\n",
              "    <div class=\"colab-df-container\">\n",
              "      <div>\n",
              "<style scoped>\n",
              "    .dataframe tbody tr th:only-of-type {\n",
              "        vertical-align: middle;\n",
              "    }\n",
              "\n",
              "    .dataframe tbody tr th {\n",
              "        vertical-align: top;\n",
              "    }\n",
              "\n",
              "    .dataframe thead th {\n",
              "        text-align: right;\n",
              "    }\n",
              "</style>\n",
              "<table border=\"1\" class=\"dataframe\">\n",
              "  <thead>\n",
              "    <tr style=\"text-align: right;\">\n",
              "      <th></th>\n",
              "      <th>USER_ID</th>\n",
              "      <th>VARIANT_NAME</th>\n",
              "      <th>REVENUE</th>\n",
              "    </tr>\n",
              "  </thead>\n",
              "  <tbody>\n",
              "    <tr>\n",
              "      <th>0</th>\n",
              "      <td>737</td>\n",
              "      <td>variant</td>\n",
              "      <td>0.0</td>\n",
              "    </tr>\n",
              "    <tr>\n",
              "      <th>1</th>\n",
              "      <td>2423</td>\n",
              "      <td>control</td>\n",
              "      <td>0.0</td>\n",
              "    </tr>\n",
              "    <tr>\n",
              "      <th>2</th>\n",
              "      <td>9411</td>\n",
              "      <td>control</td>\n",
              "      <td>0.0</td>\n",
              "    </tr>\n",
              "    <tr>\n",
              "      <th>3</th>\n",
              "      <td>7311</td>\n",
              "      <td>control</td>\n",
              "      <td>0.0</td>\n",
              "    </tr>\n",
              "    <tr>\n",
              "      <th>4</th>\n",
              "      <td>6174</td>\n",
              "      <td>variant</td>\n",
              "      <td>0.0</td>\n",
              "    </tr>\n",
              "    <tr>\n",
              "      <th>5</th>\n",
              "      <td>2380</td>\n",
              "      <td>variant</td>\n",
              "      <td>0.0</td>\n",
              "    </tr>\n",
              "    <tr>\n",
              "      <th>6</th>\n",
              "      <td>2849</td>\n",
              "      <td>control</td>\n",
              "      <td>0.0</td>\n",
              "    </tr>\n",
              "    <tr>\n",
              "      <th>7</th>\n",
              "      <td>9168</td>\n",
              "      <td>control</td>\n",
              "      <td>0.0</td>\n",
              "    </tr>\n",
              "    <tr>\n",
              "      <th>8</th>\n",
              "      <td>6205</td>\n",
              "      <td>variant</td>\n",
              "      <td>0.0</td>\n",
              "    </tr>\n",
              "    <tr>\n",
              "      <th>9</th>\n",
              "      <td>7548</td>\n",
              "      <td>control</td>\n",
              "      <td>0.0</td>\n",
              "    </tr>\n",
              "  </tbody>\n",
              "</table>\n",
              "</div>\n",
              "      <button class=\"colab-df-convert\" onclick=\"convertToInteractive('df-bae692fd-69d3-4bd5-85e6-95cf4f9a0469')\"\n",
              "              title=\"Convert this dataframe to an interactive table.\"\n",
              "              style=\"display:none;\">\n",
              "        \n",
              "  <svg xmlns=\"http://www.w3.org/2000/svg\" height=\"24px\"viewBox=\"0 0 24 24\"\n",
              "       width=\"24px\">\n",
              "    <path d=\"M0 0h24v24H0V0z\" fill=\"none\"/>\n",
              "    <path d=\"M18.56 5.44l.94 2.06.94-2.06 2.06-.94-2.06-.94-.94-2.06-.94 2.06-2.06.94zm-11 1L8.5 8.5l.94-2.06 2.06-.94-2.06-.94L8.5 2.5l-.94 2.06-2.06.94zm10 10l.94 2.06.94-2.06 2.06-.94-2.06-.94-.94-2.06-.94 2.06-2.06.94z\"/><path d=\"M17.41 7.96l-1.37-1.37c-.4-.4-.92-.59-1.43-.59-.52 0-1.04.2-1.43.59L10.3 9.45l-7.72 7.72c-.78.78-.78 2.05 0 2.83L4 21.41c.39.39.9.59 1.41.59.51 0 1.02-.2 1.41-.59l7.78-7.78 2.81-2.81c.8-.78.8-2.07 0-2.86zM5.41 20L4 18.59l7.72-7.72 1.47 1.35L5.41 20z\"/>\n",
              "  </svg>\n",
              "      </button>\n",
              "      \n",
              "  <style>\n",
              "    .colab-df-container {\n",
              "      display:flex;\n",
              "      flex-wrap:wrap;\n",
              "      gap: 12px;\n",
              "    }\n",
              "\n",
              "    .colab-df-convert {\n",
              "      background-color: #E8F0FE;\n",
              "      border: none;\n",
              "      border-radius: 50%;\n",
              "      cursor: pointer;\n",
              "      display: none;\n",
              "      fill: #1967D2;\n",
              "      height: 32px;\n",
              "      padding: 0 0 0 0;\n",
              "      width: 32px;\n",
              "    }\n",
              "\n",
              "    .colab-df-convert:hover {\n",
              "      background-color: #E2EBFA;\n",
              "      box-shadow: 0px 1px 2px rgba(60, 64, 67, 0.3), 0px 1px 3px 1px rgba(60, 64, 67, 0.15);\n",
              "      fill: #174EA6;\n",
              "    }\n",
              "\n",
              "    [theme=dark] .colab-df-convert {\n",
              "      background-color: #3B4455;\n",
              "      fill: #D2E3FC;\n",
              "    }\n",
              "\n",
              "    [theme=dark] .colab-df-convert:hover {\n",
              "      background-color: #434B5C;\n",
              "      box-shadow: 0px 1px 3px 1px rgba(0, 0, 0, 0.15);\n",
              "      filter: drop-shadow(0px 1px 2px rgba(0, 0, 0, 0.3));\n",
              "      fill: #FFFFFF;\n",
              "    }\n",
              "  </style>\n",
              "\n",
              "      <script>\n",
              "        const buttonEl =\n",
              "          document.querySelector('#df-bae692fd-69d3-4bd5-85e6-95cf4f9a0469 button.colab-df-convert');\n",
              "        buttonEl.style.display =\n",
              "          google.colab.kernel.accessAllowed ? 'block' : 'none';\n",
              "\n",
              "        async function convertToInteractive(key) {\n",
              "          const element = document.querySelector('#df-bae692fd-69d3-4bd5-85e6-95cf4f9a0469');\n",
              "          const dataTable =\n",
              "            await google.colab.kernel.invokeFunction('convertToInteractive',\n",
              "                                                     [key], {});\n",
              "          if (!dataTable) return;\n",
              "\n",
              "          const docLinkHtml = 'Like what you see? Visit the ' +\n",
              "            '<a target=\"_blank\" href=https://colab.research.google.com/notebooks/data_table.ipynb>data table notebook</a>'\n",
              "            + ' to learn more about interactive tables.';\n",
              "          element.innerHTML = '';\n",
              "          dataTable['output_type'] = 'display_data';\n",
              "          await google.colab.output.renderOutput(dataTable, element);\n",
              "          const docLink = document.createElement('div');\n",
              "          docLink.innerHTML = docLinkHtml;\n",
              "          element.appendChild(docLink);\n",
              "        }\n",
              "      </script>\n",
              "    </div>\n",
              "  </div>\n",
              "  "
            ]
          },
          "metadata": {},
          "execution_count": 29
        }
      ]
    },
    {
      "cell_type": "code",
      "source": [
        "df.info()\n",
        "# нулевых строк нет, фена флоат"
      ],
      "metadata": {
        "colab": {
          "base_uri": "https://localhost:8080/"
        },
        "id": "nnbONbDO4Pq6",
        "outputId": "d42facb0-45d9-49a0-a516-6ceca68416e0"
      },
      "execution_count": null,
      "outputs": [
        {
          "output_type": "stream",
          "name": "stdout",
          "text": [
            "<class 'pandas.core.frame.DataFrame'>\n",
            "RangeIndex: 10000 entries, 0 to 9999\n",
            "Data columns (total 3 columns):\n",
            " #   Column        Non-Null Count  Dtype  \n",
            "---  ------        --------------  -----  \n",
            " 0   USER_ID       10000 non-null  int64  \n",
            " 1   VARIANT_NAME  10000 non-null  object \n",
            " 2   REVENUE       10000 non-null  float64\n",
            "dtypes: float64(1), int64(1), object(1)\n",
            "memory usage: 234.5+ KB\n"
          ]
        }
      ]
    },
    {
      "cell_type": "code",
      "source": [
        "df.describe()"
      ],
      "metadata": {
        "colab": {
          "base_uri": "https://localhost:8080/",
          "height": 300
        },
        "id": "Ne-bgnGg4PuA",
        "outputId": "b7361e0d-3b10-40d7-eed4-d548f9cae08b"
      },
      "execution_count": null,
      "outputs": [
        {
          "output_type": "execute_result",
          "data": {
            "text/plain": [
              "            USER_ID       REVENUE\n",
              "count  10000.000000  10000.000000\n",
              "mean    4981.080200      0.099447\n",
              "std     2890.590115      2.318529\n",
              "min        2.000000      0.000000\n",
              "25%     2468.750000      0.000000\n",
              "50%     4962.000000      0.000000\n",
              "75%     7511.500000      0.000000\n",
              "max    10000.000000    196.010000"
            ],
            "text/html": [
              "\n",
              "  <div id=\"df-7929d645-afe0-4c92-b9f7-332108d0f71f\">\n",
              "    <div class=\"colab-df-container\">\n",
              "      <div>\n",
              "<style scoped>\n",
              "    .dataframe tbody tr th:only-of-type {\n",
              "        vertical-align: middle;\n",
              "    }\n",
              "\n",
              "    .dataframe tbody tr th {\n",
              "        vertical-align: top;\n",
              "    }\n",
              "\n",
              "    .dataframe thead th {\n",
              "        text-align: right;\n",
              "    }\n",
              "</style>\n",
              "<table border=\"1\" class=\"dataframe\">\n",
              "  <thead>\n",
              "    <tr style=\"text-align: right;\">\n",
              "      <th></th>\n",
              "      <th>USER_ID</th>\n",
              "      <th>REVENUE</th>\n",
              "    </tr>\n",
              "  </thead>\n",
              "  <tbody>\n",
              "    <tr>\n",
              "      <th>count</th>\n",
              "      <td>10000.000000</td>\n",
              "      <td>10000.000000</td>\n",
              "    </tr>\n",
              "    <tr>\n",
              "      <th>mean</th>\n",
              "      <td>4981.080200</td>\n",
              "      <td>0.099447</td>\n",
              "    </tr>\n",
              "    <tr>\n",
              "      <th>std</th>\n",
              "      <td>2890.590115</td>\n",
              "      <td>2.318529</td>\n",
              "    </tr>\n",
              "    <tr>\n",
              "      <th>min</th>\n",
              "      <td>2.000000</td>\n",
              "      <td>0.000000</td>\n",
              "    </tr>\n",
              "    <tr>\n",
              "      <th>25%</th>\n",
              "      <td>2468.750000</td>\n",
              "      <td>0.000000</td>\n",
              "    </tr>\n",
              "    <tr>\n",
              "      <th>50%</th>\n",
              "      <td>4962.000000</td>\n",
              "      <td>0.000000</td>\n",
              "    </tr>\n",
              "    <tr>\n",
              "      <th>75%</th>\n",
              "      <td>7511.500000</td>\n",
              "      <td>0.000000</td>\n",
              "    </tr>\n",
              "    <tr>\n",
              "      <th>max</th>\n",
              "      <td>10000.000000</td>\n",
              "      <td>196.010000</td>\n",
              "    </tr>\n",
              "  </tbody>\n",
              "</table>\n",
              "</div>\n",
              "      <button class=\"colab-df-convert\" onclick=\"convertToInteractive('df-7929d645-afe0-4c92-b9f7-332108d0f71f')\"\n",
              "              title=\"Convert this dataframe to an interactive table.\"\n",
              "              style=\"display:none;\">\n",
              "        \n",
              "  <svg xmlns=\"http://www.w3.org/2000/svg\" height=\"24px\"viewBox=\"0 0 24 24\"\n",
              "       width=\"24px\">\n",
              "    <path d=\"M0 0h24v24H0V0z\" fill=\"none\"/>\n",
              "    <path d=\"M18.56 5.44l.94 2.06.94-2.06 2.06-.94-2.06-.94-.94-2.06-.94 2.06-2.06.94zm-11 1L8.5 8.5l.94-2.06 2.06-.94-2.06-.94L8.5 2.5l-.94 2.06-2.06.94zm10 10l.94 2.06.94-2.06 2.06-.94-2.06-.94-.94-2.06-.94 2.06-2.06.94z\"/><path d=\"M17.41 7.96l-1.37-1.37c-.4-.4-.92-.59-1.43-.59-.52 0-1.04.2-1.43.59L10.3 9.45l-7.72 7.72c-.78.78-.78 2.05 0 2.83L4 21.41c.39.39.9.59 1.41.59.51 0 1.02-.2 1.41-.59l7.78-7.78 2.81-2.81c.8-.78.8-2.07 0-2.86zM5.41 20L4 18.59l7.72-7.72 1.47 1.35L5.41 20z\"/>\n",
              "  </svg>\n",
              "      </button>\n",
              "      \n",
              "  <style>\n",
              "    .colab-df-container {\n",
              "      display:flex;\n",
              "      flex-wrap:wrap;\n",
              "      gap: 12px;\n",
              "    }\n",
              "\n",
              "    .colab-df-convert {\n",
              "      background-color: #E8F0FE;\n",
              "      border: none;\n",
              "      border-radius: 50%;\n",
              "      cursor: pointer;\n",
              "      display: none;\n",
              "      fill: #1967D2;\n",
              "      height: 32px;\n",
              "      padding: 0 0 0 0;\n",
              "      width: 32px;\n",
              "    }\n",
              "\n",
              "    .colab-df-convert:hover {\n",
              "      background-color: #E2EBFA;\n",
              "      box-shadow: 0px 1px 2px rgba(60, 64, 67, 0.3), 0px 1px 3px 1px rgba(60, 64, 67, 0.15);\n",
              "      fill: #174EA6;\n",
              "    }\n",
              "\n",
              "    [theme=dark] .colab-df-convert {\n",
              "      background-color: #3B4455;\n",
              "      fill: #D2E3FC;\n",
              "    }\n",
              "\n",
              "    [theme=dark] .colab-df-convert:hover {\n",
              "      background-color: #434B5C;\n",
              "      box-shadow: 0px 1px 3px 1px rgba(0, 0, 0, 0.15);\n",
              "      filter: drop-shadow(0px 1px 2px rgba(0, 0, 0, 0.3));\n",
              "      fill: #FFFFFF;\n",
              "    }\n",
              "  </style>\n",
              "\n",
              "      <script>\n",
              "        const buttonEl =\n",
              "          document.querySelector('#df-7929d645-afe0-4c92-b9f7-332108d0f71f button.colab-df-convert');\n",
              "        buttonEl.style.display =\n",
              "          google.colab.kernel.accessAllowed ? 'block' : 'none';\n",
              "\n",
              "        async function convertToInteractive(key) {\n",
              "          const element = document.querySelector('#df-7929d645-afe0-4c92-b9f7-332108d0f71f');\n",
              "          const dataTable =\n",
              "            await google.colab.kernel.invokeFunction('convertToInteractive',\n",
              "                                                     [key], {});\n",
              "          if (!dataTable) return;\n",
              "\n",
              "          const docLinkHtml = 'Like what you see? Visit the ' +\n",
              "            '<a target=\"_blank\" href=https://colab.research.google.com/notebooks/data_table.ipynb>data table notebook</a>'\n",
              "            + ' to learn more about interactive tables.';\n",
              "          element.innerHTML = '';\n",
              "          dataTable['output_type'] = 'display_data';\n",
              "          await google.colab.output.renderOutput(dataTable, element);\n",
              "          const docLink = document.createElement('div');\n",
              "          docLink.innerHTML = docLinkHtml;\n",
              "          element.appendChild(docLink);\n",
              "        }\n",
              "      </script>\n",
              "    </div>\n",
              "  </div>\n",
              "  "
            ]
          },
          "metadata": {},
          "execution_count": 31
        }
      ]
    },
    {
      "cell_type": "code",
      "source": [
        "df.isna().sum()"
      ],
      "metadata": {
        "colab": {
          "base_uri": "https://localhost:8080/"
        },
        "id": "jsBHFNd94Pxg",
        "outputId": "358ac784-b3b6-4296-9bc0-5ed931ccf912"
      },
      "execution_count": null,
      "outputs": [
        {
          "output_type": "execute_result",
          "data": {
            "text/plain": [
              "USER_ID         0\n",
              "VARIANT_NAME    0\n",
              "REVENUE         0\n",
              "dtype: int64"
            ]
          },
          "metadata": {},
          "execution_count": 32
        }
      ]
    },
    {
      "cell_type": "code",
      "source": [
        "# размеры групп\n",
        "df.VARIANT_NAME.value_counts()"
      ],
      "metadata": {
        "colab": {
          "base_uri": "https://localhost:8080/"
        },
        "id": "nKt7dK9O4P0J",
        "outputId": "cf39092c-5e15-4681-9df8-d359309f0915"
      },
      "execution_count": null,
      "outputs": [
        {
          "output_type": "execute_result",
          "data": {
            "text/plain": [
              "variant    5016\n",
              "control    4984\n",
              "Name: VARIANT_NAME, dtype: int64"
            ]
          },
          "metadata": {},
          "execution_count": 36
        }
      ]
    },
    {
      "cell_type": "code",
      "source": [
        "#Избавлюсь от некорретных строк. Посчитю, сколько типов встречается у каждого пользователя. Мб вдруг у каких либо пользоватлей есть повторные встречания\n",
        "\n",
        "v = df.\\\n",
        "    groupby('USER_ID', as_index=False).\\\n",
        "    agg({'VARIANT_NAME': pd.Series.nunique})"
      ],
      "metadata": {
        "id": "kI-rh8NI4P22"
      },
      "execution_count": null,
      "outputs": []
    },
    {
      "cell_type": "code",
      "source": [
        "v.head(10)"
      ],
      "metadata": {
        "colab": {
          "base_uri": "https://localhost:8080/",
          "height": 363
        },
        "id": "1DZwiZ6XAMXj",
        "outputId": "9eb3cccb-5641-4c87-9c60-8b92e8a53663"
      },
      "execution_count": null,
      "outputs": [
        {
          "output_type": "execute_result",
          "data": {
            "text/plain": [
              "   USER_ID  VARIANT_NAME\n",
              "0        2             1\n",
              "1        3             2\n",
              "2        4             1\n",
              "3        5             1\n",
              "4        6             1\n",
              "5        9             1\n",
              "6       10             2\n",
              "7       11             1\n",
              "8       12             1\n",
              "9       13             1"
            ],
            "text/html": [
              "\n",
              "  <div id=\"df-b6d2891d-92eb-434a-870e-ddf6102bf27e\">\n",
              "    <div class=\"colab-df-container\">\n",
              "      <div>\n",
              "<style scoped>\n",
              "    .dataframe tbody tr th:only-of-type {\n",
              "        vertical-align: middle;\n",
              "    }\n",
              "\n",
              "    .dataframe tbody tr th {\n",
              "        vertical-align: top;\n",
              "    }\n",
              "\n",
              "    .dataframe thead th {\n",
              "        text-align: right;\n",
              "    }\n",
              "</style>\n",
              "<table border=\"1\" class=\"dataframe\">\n",
              "  <thead>\n",
              "    <tr style=\"text-align: right;\">\n",
              "      <th></th>\n",
              "      <th>USER_ID</th>\n",
              "      <th>VARIANT_NAME</th>\n",
              "    </tr>\n",
              "  </thead>\n",
              "  <tbody>\n",
              "    <tr>\n",
              "      <th>0</th>\n",
              "      <td>2</td>\n",
              "      <td>1</td>\n",
              "    </tr>\n",
              "    <tr>\n",
              "      <th>1</th>\n",
              "      <td>3</td>\n",
              "      <td>2</td>\n",
              "    </tr>\n",
              "    <tr>\n",
              "      <th>2</th>\n",
              "      <td>4</td>\n",
              "      <td>1</td>\n",
              "    </tr>\n",
              "    <tr>\n",
              "      <th>3</th>\n",
              "      <td>5</td>\n",
              "      <td>1</td>\n",
              "    </tr>\n",
              "    <tr>\n",
              "      <th>4</th>\n",
              "      <td>6</td>\n",
              "      <td>1</td>\n",
              "    </tr>\n",
              "    <tr>\n",
              "      <th>5</th>\n",
              "      <td>9</td>\n",
              "      <td>1</td>\n",
              "    </tr>\n",
              "    <tr>\n",
              "      <th>6</th>\n",
              "      <td>10</td>\n",
              "      <td>2</td>\n",
              "    </tr>\n",
              "    <tr>\n",
              "      <th>7</th>\n",
              "      <td>11</td>\n",
              "      <td>1</td>\n",
              "    </tr>\n",
              "    <tr>\n",
              "      <th>8</th>\n",
              "      <td>12</td>\n",
              "      <td>1</td>\n",
              "    </tr>\n",
              "    <tr>\n",
              "      <th>9</th>\n",
              "      <td>13</td>\n",
              "      <td>1</td>\n",
              "    </tr>\n",
              "  </tbody>\n",
              "</table>\n",
              "</div>\n",
              "      <button class=\"colab-df-convert\" onclick=\"convertToInteractive('df-b6d2891d-92eb-434a-870e-ddf6102bf27e')\"\n",
              "              title=\"Convert this dataframe to an interactive table.\"\n",
              "              style=\"display:none;\">\n",
              "        \n",
              "  <svg xmlns=\"http://www.w3.org/2000/svg\" height=\"24px\"viewBox=\"0 0 24 24\"\n",
              "       width=\"24px\">\n",
              "    <path d=\"M0 0h24v24H0V0z\" fill=\"none\"/>\n",
              "    <path d=\"M18.56 5.44l.94 2.06.94-2.06 2.06-.94-2.06-.94-.94-2.06-.94 2.06-2.06.94zm-11 1L8.5 8.5l.94-2.06 2.06-.94-2.06-.94L8.5 2.5l-.94 2.06-2.06.94zm10 10l.94 2.06.94-2.06 2.06-.94-2.06-.94-.94-2.06-.94 2.06-2.06.94z\"/><path d=\"M17.41 7.96l-1.37-1.37c-.4-.4-.92-.59-1.43-.59-.52 0-1.04.2-1.43.59L10.3 9.45l-7.72 7.72c-.78.78-.78 2.05 0 2.83L4 21.41c.39.39.9.59 1.41.59.51 0 1.02-.2 1.41-.59l7.78-7.78 2.81-2.81c.8-.78.8-2.07 0-2.86zM5.41 20L4 18.59l7.72-7.72 1.47 1.35L5.41 20z\"/>\n",
              "  </svg>\n",
              "      </button>\n",
              "      \n",
              "  <style>\n",
              "    .colab-df-container {\n",
              "      display:flex;\n",
              "      flex-wrap:wrap;\n",
              "      gap: 12px;\n",
              "    }\n",
              "\n",
              "    .colab-df-convert {\n",
              "      background-color: #E8F0FE;\n",
              "      border: none;\n",
              "      border-radius: 50%;\n",
              "      cursor: pointer;\n",
              "      display: none;\n",
              "      fill: #1967D2;\n",
              "      height: 32px;\n",
              "      padding: 0 0 0 0;\n",
              "      width: 32px;\n",
              "    }\n",
              "\n",
              "    .colab-df-convert:hover {\n",
              "      background-color: #E2EBFA;\n",
              "      box-shadow: 0px 1px 2px rgba(60, 64, 67, 0.3), 0px 1px 3px 1px rgba(60, 64, 67, 0.15);\n",
              "      fill: #174EA6;\n",
              "    }\n",
              "\n",
              "    [theme=dark] .colab-df-convert {\n",
              "      background-color: #3B4455;\n",
              "      fill: #D2E3FC;\n",
              "    }\n",
              "\n",
              "    [theme=dark] .colab-df-convert:hover {\n",
              "      background-color: #434B5C;\n",
              "      box-shadow: 0px 1px 3px 1px rgba(0, 0, 0, 0.15);\n",
              "      filter: drop-shadow(0px 1px 2px rgba(0, 0, 0, 0.3));\n",
              "      fill: #FFFFFF;\n",
              "    }\n",
              "  </style>\n",
              "\n",
              "      <script>\n",
              "        const buttonEl =\n",
              "          document.querySelector('#df-b6d2891d-92eb-434a-870e-ddf6102bf27e button.colab-df-convert');\n",
              "        buttonEl.style.display =\n",
              "          google.colab.kernel.accessAllowed ? 'block' : 'none';\n",
              "\n",
              "        async function convertToInteractive(key) {\n",
              "          const element = document.querySelector('#df-b6d2891d-92eb-434a-870e-ddf6102bf27e');\n",
              "          const dataTable =\n",
              "            await google.colab.kernel.invokeFunction('convertToInteractive',\n",
              "                                                     [key], {});\n",
              "          if (!dataTable) return;\n",
              "\n",
              "          const docLinkHtml = 'Like what you see? Visit the ' +\n",
              "            '<a target=\"_blank\" href=https://colab.research.google.com/notebooks/data_table.ipynb>data table notebook</a>'\n",
              "            + ' to learn more about interactive tables.';\n",
              "          element.innerHTML = '';\n",
              "          dataTable['output_type'] = 'display_data';\n",
              "          await google.colab.output.renderOutput(dataTable, element);\n",
              "          const docLink = document.createElement('div');\n",
              "          docLink.innerHTML = docLinkHtml;\n",
              "          element.appendChild(docLink);\n",
              "        }\n",
              "      </script>\n",
              "    </div>\n",
              "  </div>\n",
              "  "
            ]
          },
          "metadata": {},
          "execution_count": 38
        }
      ]
    },
    {
      "cell_type": "markdown",
      "source": [
        "видно, что некоторые пользователи попали и в тестовую и в контрольную группы, их нужно удалить"
      ],
      "metadata": {
        "id": "bn3PZ3p9AURm"
      }
    },
    {
      "cell_type": "code",
      "source": [
        "# Фильтрую юзеров у которых больше 1 встречания\n",
        "more_than_one_types = v.query('VARIANT_NAME > 1')"
      ],
      "metadata": {
        "id": "JOAfO7mk4P5c"
      },
      "execution_count": null,
      "outputs": []
    },
    {
      "cell_type": "code",
      "source": [
        "# Удалю повторяющихся пользовтелей\n",
        "df_new = df[~df.USER_ID.isin(more_than_one_types.USER_ID)].sort_values('USER_ID')"
      ],
      "metadata": {
        "id": "yydJy-kw4YLG"
      },
      "execution_count": null,
      "outputs": []
    },
    {
      "cell_type": "code",
      "source": [
        "df_new.shape"
      ],
      "metadata": {
        "colab": {
          "base_uri": "https://localhost:8080/"
        },
        "id": "PJLO-P8S4YN4",
        "outputId": "8903032e-ec52-49cb-ce57-cd01e551caf4"
      },
      "execution_count": null,
      "outputs": [
        {
          "output_type": "execute_result",
          "data": {
            "text/plain": [
              "(6070, 3)"
            ]
          },
          "metadata": {},
          "execution_count": 42
        }
      ]
    },
    {
      "cell_type": "code",
      "source": [
        "df.shape"
      ],
      "metadata": {
        "colab": {
          "base_uri": "https://localhost:8080/"
        },
        "id": "PeJK_yRm4YQ5",
        "outputId": "dcbaae60-8d7a-4a1e-af89-d94563a1a3f4"
      },
      "execution_count": null,
      "outputs": [
        {
          "output_type": "execute_result",
          "data": {
            "text/plain": [
              "(10000, 3)"
            ]
          },
          "metadata": {},
          "execution_count": 43
        }
      ]
    },
    {
      "cell_type": "markdown",
      "source": [
        "### видно, что большое кол-во пользователей удалилось"
      ],
      "metadata": {
        "id": "DmYPfLGgB4Ms"
      }
    },
    {
      "cell_type": "code",
      "source": [
        "# разделим выборки на контрольную и тестовую\n",
        "control = df_new.query('VARIANT_NAME == \"control\"')\n",
        "\n",
        "test = df_new.query('VARIANT_NAME == \"variant\"')"
      ],
      "metadata": {
        "id": "iI7ZSGIN4YT3"
      },
      "execution_count": null,
      "outputs": []
    },
    {
      "cell_type": "code",
      "source": [
        "len(control)"
      ],
      "metadata": {
        "colab": {
          "base_uri": "https://localhost:8080/"
        },
        "id": "vvLNYoMR4YW3",
        "outputId": "ac3420aa-8228-4e06-b45a-8390faf4bd2a"
      },
      "execution_count": null,
      "outputs": [
        {
          "output_type": "execute_result",
          "data": {
            "text/plain": [
              "3026"
            ]
          },
          "metadata": {},
          "execution_count": 46
        }
      ]
    },
    {
      "cell_type": "code",
      "source": [
        "len(test)"
      ],
      "metadata": {
        "colab": {
          "base_uri": "https://localhost:8080/"
        },
        "id": "oDRLInNQ4fmP",
        "outputId": "c9d70f4a-b4b5-4eb9-d2a2-d5165bb6b3da"
      },
      "execution_count": null,
      "outputs": [
        {
          "output_type": "execute_result",
          "data": {
            "text/plain": [
              "3044"
            ]
          },
          "metadata": {},
          "execution_count": 47
        }
      ]
    },
    {
      "cell_type": "code",
      "source": [
        "# наблюдений меньше 5 тыс, применю критерий Шапиро Уилка\n",
        "from scipy.stats import shapiro"
      ],
      "metadata": {
        "id": "F43UIUyQ4fpV"
      },
      "execution_count": null,
      "outputs": []
    },
    {
      "cell_type": "code",
      "source": [
        "alpha = 0.05\n",
        "\n",
        "st = shapiro(df.REVENUE)\n",
        "print('Distribution is {}normal\\n'.format( {True:'not ',\n",
        "False:''}[st[1] < alpha]));"
      ],
      "metadata": {
        "colab": {
          "base_uri": "https://localhost:8080/"
        },
        "id": "Omr7tWau4fsa",
        "outputId": "98044f51-d31a-4ffc-f19c-885ea7e6f17d"
      },
      "execution_count": null,
      "outputs": [
        {
          "output_type": "stream",
          "name": "stdout",
          "text": [
            "Distribution is not normal\n",
            "\n"
          ]
        }
      ]
    },
    {
      "cell_type": "markdown",
      "source": [
        "Показывает, что распределение не нормальное"
      ],
      "metadata": {
        "id": "_s7y4hk-CmLC"
      }
    },
    {
      "cell_type": "code",
      "source": [
        "# отображу визуально, распределение\n",
        "control.REVENUE.hist(bins = 25, alpha =0.7, label='Control')\n",
        "test.REVENUE.hist(bins = 25, alpha =0.7, label='Test')\n",
        "plt.title('Доход на юзера по группам')\n",
        "plt.xlabel('Доход')\n",
        "plt.ylabel('Число пользователей')\n",
        "plt.legend();"
      ],
      "metadata": {
        "colab": {
          "base_uri": "https://localhost:8080/",
          "height": 472
        },
        "id": "qLWsTEtx4kpF",
        "outputId": "21039868-0922-4a63-badc-fdb80a7a9ca8"
      },
      "execution_count": null,
      "outputs": [
        {
          "output_type": "display_data",
          "data": {
            "text/plain": [
              "<Figure size 640x480 with 1 Axes>"
            ],
            "image/png": "[encoded data removed]"
          },
          "metadata": {}
        }
      ]
    },
    {
      "cell_type": "code",
      "source": [
        "# проверю критерием Мана Уитни\n",
        "mw_stats = mannwhitneyu(x=control.REVENUE.values,\n",
        "                        y=test.REVENUE.values)\n",
        "                        \n",
        "mw_stats"
      ],
      "metadata": {
        "colab": {
          "base_uri": "https://localhost:8080/"
        },
        "id": "sCnzl5yUEMge",
        "outputId": "5c106c83-5e88-4adf-9cc4-bf2343461799"
      },
      "execution_count": null,
      "outputs": [
        {
          "output_type": "execute_result",
          "data": {
            "text/plain": [
              "MannwhitneyuResult(statistic=4622832.0, pvalue=0.2444173738649208)"
            ]
          },
          "metadata": {},
          "execution_count": 54
        }
      ]
    },
    {
      "cell_type": "markdown",
      "source": [
        "pvalue больше 10%, стат значимости нет"
      ],
      "metadata": {
        "id": "J0WAR78YEkcM"
      }
    },
    {
      "cell_type": "code",
      "source": [
        "# Построю бокс плот\n",
        "plt.boxplot([control.REVENUE,test.REVENUE],\n",
        "            labels=['Контроль','Тест'],\n",
        "            widths=0.5\n",
        "           )\n",
        "plt.title('Boxplot по пользователям',  loc='center')\n",
        "plt.grid(axis  ='both')"
      ],
      "metadata": {
        "colab": {
          "base_uri": "https://localhost:8080/",
          "height": 452
        },
        "id": "BoIE3FVf4ksI",
        "outputId": "ba5b31d1-f579-48e0-8c5c-017b3569a9fb"
      },
      "execution_count": null,
      "outputs": [
        {
          "output_type": "display_data",
          "data": {
            "text/plain": [
              "<Figure size 640x480 with 1 Axes>"
            ],
            "image/png": "[encoded data removed]"
          },
          "metadata": {}
        }
      ]
    },
    {
      "cell_type": "code",
      "source": [
        "# Посмотрю, что покажет ттест. хотя данные не нормально распределены\n",
        "stats.ttest_ind(control.REVENUE.values, test.REVENUE.values, equal_var = False)"
      ],
      "metadata": {
        "colab": {
          "base_uri": "https://localhost:8080/"
        },
        "id": "oBsEM4eL4kvc",
        "outputId": "342d46aa-89f0-45a2-a43a-61bd65043bc3"
      },
      "execution_count": null,
      "outputs": [
        {
          "output_type": "execute_result",
          "data": {
            "text/plain": [
              "Ttest_indResult(statistic=1.403762252371675, pvalue=0.1604844017690842)"
            ]
          },
          "metadata": {},
          "execution_count": 56
        }
      ]
    },
    {
      "cell_type": "markdown",
      "source": [
        "pvalue = 0,16 так же видно. что стат значимости нет"
      ],
      "metadata": {
        "id": "xMuFjuBjFC-R"
      }
    },
    {
      "cell_type": "code",
      "source": [],
      "metadata": {
        "id": "WChP604vGx1L"
      },
      "execution_count": null,
      "outputs": []
    },
    {
      "cell_type": "markdown",
      "source": [
        "## Перед тем как сделать выводы, нужно проверить мощность теста"
      ],
      "metadata": {
        "id": "kDhPoFbjFIsf"
      }
    },
    {
      "cell_type": "markdown",
      "source": [
        "# Расчет мощности,   \n",
        "S_pooled - объединенное стандартное отклонение\n",
        "### d = (M1 – M2) / S_pooled\n",
        "\n",
        "\n",
        "### S_pooled =![image.png](data:image/png;base64,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)"
      ],
      "metadata": {
        "id": "r0c4kNPO4th3"
      }
    },
    {
      "cell_type": "code",
      "source": [
        "C_mean = control.REVENUE.values.mean()       # среднее в контрольной группе\n",
        "T_mean = test.REVENUE.values.mean()           # среднее в тестовой группе\n",
        "C_std = control.REVENUE.values.std()            # стандартное отклонение в контрольной группе\n",
        "T_std = test.REVENUE.values.std()                # стандартное отклонение в тестовой группе"
      ],
      "metadata": {
        "id": "Bb23K6vt4kyq"
      },
      "execution_count": null,
      "outputs": []
    },
    {
      "cell_type": "code",
      "source": [
        "# размеры групп\n",
        "print(len(control.REVENUE.values), len(test.REVENUE.values))"
      ],
      "metadata": {
        "colab": {
          "base_uri": "https://localhost:8080/"
        },
        "id": "HNtF6VNP4k19",
        "outputId": "53284e17-b6b0-4ddd-bff7-2fc2446fbea6"
      },
      "execution_count": null,
      "outputs": [
        {
          "output_type": "stream",
          "name": "stdout",
          "text": [
            "3026 3044\n"
          ]
        }
      ]
    },
    {
      "cell_type": "code",
      "source": [
        "# lдлина выборки\n",
        "n =  len(control.REVENUE.values)"
      ],
      "metadata": {
        "id": "GvS8aka1O7Gh"
      },
      "execution_count": null,
      "outputs": []
    },
    {
      "cell_type": "code",
      "source": [
        "##S = np.sqrt((sd_t**2 / n_t) + (sd_c**2 / n_c))      ЭТА ФОРМУЛА ЕСЛИ ГРУППЫ СОВСЕМ НЕ РАВНЫ, он нужен для расчета разницы  между мат ожиданиями\n",
        "\n",
        "S = np.sqrt((T_std**2 + C_std **2)/ 2)"
      ],
      "metadata": {
        "id": "xNnNydUu4fym"
      },
      "execution_count": null,
      "outputs": []
    },
    {
      "cell_type": "code",
      "source": [
        "# разница между мат ожиданиями\n",
        "ef = float((C_mean - T_mean)/ S)\n",
        "ef"
      ],
      "metadata": {
        "colab": {
          "base_uri": "https://localhost:8080/"
        },
        "id": "wAeFBkONJTjV",
        "outputId": "4e459e0c-c3af-4a70-e12a-c1dc0999d0bf"
      },
      "execution_count": null,
      "outputs": [
        {
          "output_type": "execute_result",
          "data": {
            "text/plain": [
              "0.0360905955737073"
            ]
          },
          "metadata": {},
          "execution_count": 76
        }
      ]
    },
    {
      "cell_type": "code",
      "source": [
        "from statsmodels.stats.power import TTestIndPower\n",
        "\n",
        "# parameters for power analysis\n",
        "\n",
        "alpha = 0.05\n",
        "\n",
        "analysis = TTestIndPower()\n",
        "result = analysis.solve_power(ef, power=None,                    # передаем ef рассчитанный выше, мощность не знаем\n",
        "nobs1=n, ratio=1.0, alpha=alpha)                                 # nobs1 - кол во наблюдений, ratio = 1 это значит, что группы равны по длинне\n",
        "\n",
        "result"
      ],
      "metadata": {
        "colab": {
          "base_uri": "https://localhost:8080/"
        },
        "id": "yWxS0TAg4P8S",
        "outputId": "4b6decbd-712f-4e3d-f797-098b84166809"
      },
      "execution_count": null,
      "outputs": [
        {
          "output_type": "execute_result",
          "data": {
            "text/plain": [
              "0.2893670730459212"
            ]
          },
          "metadata": {},
          "execution_count": 77
        }
      ]
    },
    {
      "cell_type": "markdown",
      "source": [
        "### Мощность равна 0,28 - 28 %, этого недостаточно, мы не можем быть уверены в верности результатов теста. "
      ],
      "metadata": {
        "id": "OnsGbRYoLyTf"
      }
    },
    {
      "cell_type": "markdown",
      "source": [
        "# Общий итог по тесту:\n",
        "* Нет стат значимости по ключевой метрике\n",
        "* Сам тест вызывает вопросы: пользователи попадали и в тестовую и в контрольную группу\n",
        "* Очень большая дисперсия в данных\n",
        "* Мощьность низкая\n",
        "\n",
        "## Учитывая пункты выше нужно пересчитать объем выборки и перезапустить тест."
      ],
      "metadata": {
        "id": "Y28AXjCcMFwA"
      }
    }
  ]
}